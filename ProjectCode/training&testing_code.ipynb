{
 "cells": [
  {
   "cell_type": "code",
   "execution_count": 2,
   "id": "b8d03f74",
   "metadata": {},
   "outputs": [
    {
     "name": "stdout",
     "output_type": "stream",
     "text": [
      "Requirement already satisfied: scipy in /home/guest/.local/lib/python3.9/site-packages (1.7.1)\n",
      "Requirement already satisfied: numpy<1.23.0,>=1.16.5 in /usr/local/lib/python3.9/dist-packages (from scipy) (1.21.2)\n",
      "Requirement already satisfied: matplotlib in /home/guest/.local/lib/python3.9/site-packages (3.4.3)\n",
      "Requirement already satisfied: pyparsing>=2.2.1 in /home/guest/.local/lib/python3.9/site-packages (from matplotlib) (2.4.7)\n",
      "Requirement already satisfied: numpy>=1.16 in /usr/local/lib/python3.9/dist-packages (from matplotlib) (1.21.2)\n",
      "Requirement already satisfied: python-dateutil>=2.7 in /home/guest/.local/lib/python3.9/site-packages (from matplotlib) (2.8.2)\n",
      "Requirement already satisfied: pillow>=6.2.0 in /home/guest/.local/lib/python3.9/site-packages (from matplotlib) (8.3.2)\n",
      "Requirement already satisfied: kiwisolver>=1.0.1 in /home/guest/.local/lib/python3.9/site-packages (from matplotlib) (1.3.2)\n",
      "Requirement already satisfied: cycler>=0.10 in /home/guest/.local/lib/python3.9/site-packages (from matplotlib) (0.10.0)\n",
      "Requirement already satisfied: six in /usr/lib/python3/dist-packages (from cycler>=0.10->matplotlib) (1.15.0)\n"
     ]
    }
   ],
   "source": [
    "#follow guidelines as to how to install packages from jupyter notebooks\n",
    "import sys\n",
    "!{sys.executable} -m pip install scipy\n",
    "!{sys.executable} -m pip install matplotlib\n",
    "\n",
    "#For details-> https://stackoverflow.com/questions/43567876/scipy-cannot-be-imported-in-jupyter-notebook"
   ]
  },
  {
   "cell_type": "code",
   "execution_count": 4,
   "id": "31d832a8",
   "metadata": {},
   "outputs": [
    {
     "name": "stdout",
     "output_type": "stream",
     "text": [
      "Collecting Pillow==7.2.0\n",
      "  Using cached Pillow-7.2.0.tar.gz (39.1 MB)\n",
      "Requirement already satisfied: torchvision in /home/guest/.local/lib/python3.9/site-packages (from -r requirements.txt (line 2)) (0.10.1)\n",
      "Requirement already satisfied: numpy in /usr/local/lib/python3.9/dist-packages (from torchvision->-r requirements.txt (line 2)) (1.21.2)\n",
      "Requirement already satisfied: torch==1.9.1 in /home/guest/.local/lib/python3.9/site-packages (from torchvision->-r requirements.txt (line 2)) (1.9.1)\n",
      "Requirement already satisfied: typing-extensions in /home/guest/.local/lib/python3.9/site-packages (from torch==1.9.1->torchvision->-r requirements.txt (line 2)) (3.10.0.2)\n",
      "Building wheels for collected packages: Pillow\n",
      "  Building wheel for Pillow (setup.py) ... \u001b[?25ldone\n",
      "\u001b[?25h  Created wheel for Pillow: filename=Pillow-7.2.0-cp39-cp39-linux_x86_64.whl size=1066654 sha256=4a762d48b6fd271393fd025cb4f79a9ab2f8b79839deeba6f42431a3c8b6099a\n",
      "  Stored in directory: /home/guest/.cache/pip/wheels/d2/4d/44/3fc103a77e1f7e6930a4a24994dbb5ea97eb14ff30c3cd0db6\n",
      "Successfully built Pillow\n",
      "Installing collected packages: Pillow\n",
      "  Attempting uninstall: Pillow\n",
      "    Found existing installation: Pillow 8.3.2\n",
      "    Uninstalling Pillow-8.3.2:\n",
      "      Successfully uninstalled Pillow-8.3.2\n",
      "Successfully installed Pillow-7.2.0\n"
     ]
    }
   ],
   "source": [
    "!{sys.executable} -m pip install -r requirements.txt"
   ]
  },
  {
   "cell_type": "code",
   "execution_count": 15,
   "id": "fa0adfc2",
   "metadata": {},
   "outputs": [
    {
     "name": "stdout",
     "output_type": "stream",
     "text": [
      "Collecting tqdm\n",
      "  Downloading tqdm-4.62.3-py2.py3-none-any.whl (76 kB)\n",
      "\u001b[K     |████████████████████████████████| 76 kB 3.4 MB/s eta 0:00:011\n",
      "\u001b[?25hInstalling collected packages: tqdm\n",
      "Successfully installed tqdm-4.62.3\n"
     ]
    }
   ],
   "source": [
    "!{sys.executable} -m pip install tqdm"
   ]
  },
  {
   "cell_type": "code",
   "execution_count": 1,
   "id": "0171fd7d",
   "metadata": {},
   "outputs": [],
   "source": [
    "import matplotlib.pyplot as plt\n",
    "import torch\n",
    "import sys"
   ]
  },
  {
   "cell_type": "code",
   "execution_count": 2,
   "id": "94aefd33",
   "metadata": {},
   "outputs": [
    {
     "data": {
      "text/plain": [
       "['/home/guest/Documents/SafeCam/ProjectCode',\n",
       " '/usr/lib/python39.zip',\n",
       " '/usr/lib/python3.9',\n",
       " '/usr/lib/python3.9/lib-dynload',\n",
       " '',\n",
       " '/home/guest/.local/lib/python3.9/site-packages',\n",
       " '/usr/local/lib/python3.9/dist-packages',\n",
       " '/usr/lib/python3/dist-packages',\n",
       " '/home/guest/.local/lib/python3.9/site-packages/IPython/extensions',\n",
       " '/home/guest/.ipython',\n",
       " '/home/guest/Documents']"
      ]
     },
     "execution_count": 2,
     "metadata": {},
     "output_type": "execute_result"
    }
   ],
   "source": [
    "#add a specific path for interpreter to search the RAFT files\n",
    "sys.path.append('/home/guest/Documents')\n",
    "#https://www.geeksforgeeks.org/sys-path-in-python/\n",
    "sys.path"
   ]
  },
  {
   "cell_type": "code",
   "execution_count": 3,
   "id": "0034dcae",
   "metadata": {},
   "outputs": [],
   "source": [
    "import cv2\n",
    "#openCV\n",
    "import numpy as np\n",
    "from scipy.stats import kurtosis,skew\n",
    "#scipy is the statistical elder brother of numpy\n",
    "import os\n",
    "#os helps in fetching files from different directories i.e. communication with the operating system\n",
    "import pickle\n",
    "#pickle helps in dumping content of large lists or dictionaries which is then stored in binary format \n",
    "#https://www.geeksforgeeks.org/understanding-python-pickling-example/\n",
    "#https://stackoverflow.com/questions/899103/writing-a-list-to-a-file-with-python/899176\n",
    "\n",
    "#https://stackoverflow.com/questions/7370801/how-to-measure-elapsed-time-in-python\n",
    "from timeit import default_timer as timer\n",
    "\n",
    "#importing all relevant RAFT libraries\n",
    "from raft.core.raft import RAFT\n",
    "from raft.core.utils import flow_viz\n",
    "from raft.core.utils.utils import InputPadder\n",
    "from raft.config import RAFTConfig\n",
    "\n",
    "from PIL import Image"
   ]
  },
  {
   "cell_type": "code",
   "execution_count": 4,
   "id": "5df048a4",
   "metadata": {},
   "outputs": [
    {
     "data": {
      "text/plain": [
       "'|===========================================================================|\\n|                  PyTorch CUDA memory summary, device ID 0                 |\\n|---------------------------------------------------------------------------|\\n|            CUDA OOMs: 0            |        cudaMalloc retries: 0         |\\n|===========================================================================|\\n|        Metric         | Cur Usage  | Peak Usage | Tot Alloc  | Tot Freed  |\\n|---------------------------------------------------------------------------|\\n| Allocated memory      |       0 B  |       0 B  |       0 B  |       0 B  |\\n|       from large pool |       0 B  |       0 B  |       0 B  |       0 B  |\\n|       from small pool |       0 B  |       0 B  |       0 B  |       0 B  |\\n|---------------------------------------------------------------------------|\\n| Active memory         |       0 B  |       0 B  |       0 B  |       0 B  |\\n|       from large pool |       0 B  |       0 B  |       0 B  |       0 B  |\\n|       from small pool |       0 B  |       0 B  |       0 B  |       0 B  |\\n|---------------------------------------------------------------------------|\\n| GPU reserved memory   |       0 B  |       0 B  |       0 B  |       0 B  |\\n|       from large pool |       0 B  |       0 B  |       0 B  |       0 B  |\\n|       from small pool |       0 B  |       0 B  |       0 B  |       0 B  |\\n|---------------------------------------------------------------------------|\\n| Non-releasable memory |       0 B  |       0 B  |       0 B  |       0 B  |\\n|       from large pool |       0 B  |       0 B  |       0 B  |       0 B  |\\n|       from small pool |       0 B  |       0 B  |       0 B  |       0 B  |\\n|---------------------------------------------------------------------------|\\n| Allocations           |       0    |       0    |       0    |       0    |\\n|       from large pool |       0    |       0    |       0    |       0    |\\n|       from small pool |       0    |       0    |       0    |       0    |\\n|---------------------------------------------------------------------------|\\n| Active allocs         |       0    |       0    |       0    |       0    |\\n|       from large pool |       0    |       0    |       0    |       0    |\\n|       from small pool |       0    |       0    |       0    |       0    |\\n|---------------------------------------------------------------------------|\\n| GPU reserved segments |       0    |       0    |       0    |       0    |\\n|       from large pool |       0    |       0    |       0    |       0    |\\n|       from small pool |       0    |       0    |       0    |       0    |\\n|---------------------------------------------------------------------------|\\n| Non-releasable allocs |       0    |       0    |       0    |       0    |\\n|       from large pool |       0    |       0    |       0    |       0    |\\n|       from small pool |       0    |       0    |       0    |       0    |\\n|===========================================================================|\\n'"
      ]
     },
     "execution_count": 4,
     "metadata": {},
     "output_type": "execute_result"
    }
   ],
   "source": [
    "torch.cuda.memory_summary(device=None, abbreviated=False)"
   ]
  },
  {
   "cell_type": "code",
   "execution_count": 5,
   "id": "7acce934",
   "metadata": {},
   "outputs": [
    {
     "data": {
      "text/plain": [
       "RAFT(\n",
       "  (fnet): BasicEncoder(\n",
       "    (norm1): InstanceNorm2d(64, eps=1e-05, momentum=0.1, affine=False, track_running_stats=False)\n",
       "    (conv1): Conv2d(3, 64, kernel_size=(7, 7), stride=(2, 2), padding=(3, 3))\n",
       "    (relu1): ReLU(inplace=True)\n",
       "    (layer1): Sequential(\n",
       "      (0): ResidualBlock(\n",
       "        (conv1): Conv2d(64, 64, kernel_size=(3, 3), stride=(1, 1), padding=(1, 1))\n",
       "        (conv2): Conv2d(64, 64, kernel_size=(3, 3), stride=(1, 1), padding=(1, 1))\n",
       "        (relu): ReLU(inplace=True)\n",
       "        (norm1): InstanceNorm2d(64, eps=1e-05, momentum=0.1, affine=False, track_running_stats=False)\n",
       "        (norm2): InstanceNorm2d(64, eps=1e-05, momentum=0.1, affine=False, track_running_stats=False)\n",
       "      )\n",
       "      (1): ResidualBlock(\n",
       "        (conv1): Conv2d(64, 64, kernel_size=(3, 3), stride=(1, 1), padding=(1, 1))\n",
       "        (conv2): Conv2d(64, 64, kernel_size=(3, 3), stride=(1, 1), padding=(1, 1))\n",
       "        (relu): ReLU(inplace=True)\n",
       "        (norm1): InstanceNorm2d(64, eps=1e-05, momentum=0.1, affine=False, track_running_stats=False)\n",
       "        (norm2): InstanceNorm2d(64, eps=1e-05, momentum=0.1, affine=False, track_running_stats=False)\n",
       "      )\n",
       "    )\n",
       "    (layer2): Sequential(\n",
       "      (0): ResidualBlock(\n",
       "        (conv1): Conv2d(64, 96, kernel_size=(3, 3), stride=(2, 2), padding=(1, 1))\n",
       "        (conv2): Conv2d(96, 96, kernel_size=(3, 3), stride=(1, 1), padding=(1, 1))\n",
       "        (relu): ReLU(inplace=True)\n",
       "        (norm1): InstanceNorm2d(96, eps=1e-05, momentum=0.1, affine=False, track_running_stats=False)\n",
       "        (norm2): InstanceNorm2d(96, eps=1e-05, momentum=0.1, affine=False, track_running_stats=False)\n",
       "        (norm3): InstanceNorm2d(96, eps=1e-05, momentum=0.1, affine=False, track_running_stats=False)\n",
       "        (downsample): Sequential(\n",
       "          (0): Conv2d(64, 96, kernel_size=(1, 1), stride=(2, 2))\n",
       "          (1): InstanceNorm2d(96, eps=1e-05, momentum=0.1, affine=False, track_running_stats=False)\n",
       "        )\n",
       "      )\n",
       "      (1): ResidualBlock(\n",
       "        (conv1): Conv2d(96, 96, kernel_size=(3, 3), stride=(1, 1), padding=(1, 1))\n",
       "        (conv2): Conv2d(96, 96, kernel_size=(3, 3), stride=(1, 1), padding=(1, 1))\n",
       "        (relu): ReLU(inplace=True)\n",
       "        (norm1): InstanceNorm2d(96, eps=1e-05, momentum=0.1, affine=False, track_running_stats=False)\n",
       "        (norm2): InstanceNorm2d(96, eps=1e-05, momentum=0.1, affine=False, track_running_stats=False)\n",
       "      )\n",
       "    )\n",
       "    (layer3): Sequential(\n",
       "      (0): ResidualBlock(\n",
       "        (conv1): Conv2d(96, 128, kernel_size=(3, 3), stride=(2, 2), padding=(1, 1))\n",
       "        (conv2): Conv2d(128, 128, kernel_size=(3, 3), stride=(1, 1), padding=(1, 1))\n",
       "        (relu): ReLU(inplace=True)\n",
       "        (norm1): InstanceNorm2d(128, eps=1e-05, momentum=0.1, affine=False, track_running_stats=False)\n",
       "        (norm2): InstanceNorm2d(128, eps=1e-05, momentum=0.1, affine=False, track_running_stats=False)\n",
       "        (norm3): InstanceNorm2d(128, eps=1e-05, momentum=0.1, affine=False, track_running_stats=False)\n",
       "        (downsample): Sequential(\n",
       "          (0): Conv2d(96, 128, kernel_size=(1, 1), stride=(2, 2))\n",
       "          (1): InstanceNorm2d(128, eps=1e-05, momentum=0.1, affine=False, track_running_stats=False)\n",
       "        )\n",
       "      )\n",
       "      (1): ResidualBlock(\n",
       "        (conv1): Conv2d(128, 128, kernel_size=(3, 3), stride=(1, 1), padding=(1, 1))\n",
       "        (conv2): Conv2d(128, 128, kernel_size=(3, 3), stride=(1, 1), padding=(1, 1))\n",
       "        (relu): ReLU(inplace=True)\n",
       "        (norm1): InstanceNorm2d(128, eps=1e-05, momentum=0.1, affine=False, track_running_stats=False)\n",
       "        (norm2): InstanceNorm2d(128, eps=1e-05, momentum=0.1, affine=False, track_running_stats=False)\n",
       "      )\n",
       "    )\n",
       "    (conv2): Conv2d(128, 256, kernel_size=(1, 1), stride=(1, 1))\n",
       "  )\n",
       "  (cnet): BasicEncoder(\n",
       "    (norm1): BatchNorm2d(64, eps=1e-05, momentum=0.1, affine=True, track_running_stats=True)\n",
       "    (conv1): Conv2d(3, 64, kernel_size=(7, 7), stride=(2, 2), padding=(3, 3))\n",
       "    (relu1): ReLU(inplace=True)\n",
       "    (layer1): Sequential(\n",
       "      (0): ResidualBlock(\n",
       "        (conv1): Conv2d(64, 64, kernel_size=(3, 3), stride=(1, 1), padding=(1, 1))\n",
       "        (conv2): Conv2d(64, 64, kernel_size=(3, 3), stride=(1, 1), padding=(1, 1))\n",
       "        (relu): ReLU(inplace=True)\n",
       "        (norm1): BatchNorm2d(64, eps=1e-05, momentum=0.1, affine=True, track_running_stats=True)\n",
       "        (norm2): BatchNorm2d(64, eps=1e-05, momentum=0.1, affine=True, track_running_stats=True)\n",
       "      )\n",
       "      (1): ResidualBlock(\n",
       "        (conv1): Conv2d(64, 64, kernel_size=(3, 3), stride=(1, 1), padding=(1, 1))\n",
       "        (conv2): Conv2d(64, 64, kernel_size=(3, 3), stride=(1, 1), padding=(1, 1))\n",
       "        (relu): ReLU(inplace=True)\n",
       "        (norm1): BatchNorm2d(64, eps=1e-05, momentum=0.1, affine=True, track_running_stats=True)\n",
       "        (norm2): BatchNorm2d(64, eps=1e-05, momentum=0.1, affine=True, track_running_stats=True)\n",
       "      )\n",
       "    )\n",
       "    (layer2): Sequential(\n",
       "      (0): ResidualBlock(\n",
       "        (conv1): Conv2d(64, 96, kernel_size=(3, 3), stride=(2, 2), padding=(1, 1))\n",
       "        (conv2): Conv2d(96, 96, kernel_size=(3, 3), stride=(1, 1), padding=(1, 1))\n",
       "        (relu): ReLU(inplace=True)\n",
       "        (norm1): BatchNorm2d(96, eps=1e-05, momentum=0.1, affine=True, track_running_stats=True)\n",
       "        (norm2): BatchNorm2d(96, eps=1e-05, momentum=0.1, affine=True, track_running_stats=True)\n",
       "        (norm3): BatchNorm2d(96, eps=1e-05, momentum=0.1, affine=True, track_running_stats=True)\n",
       "        (downsample): Sequential(\n",
       "          (0): Conv2d(64, 96, kernel_size=(1, 1), stride=(2, 2))\n",
       "          (1): BatchNorm2d(96, eps=1e-05, momentum=0.1, affine=True, track_running_stats=True)\n",
       "        )\n",
       "      )\n",
       "      (1): ResidualBlock(\n",
       "        (conv1): Conv2d(96, 96, kernel_size=(3, 3), stride=(1, 1), padding=(1, 1))\n",
       "        (conv2): Conv2d(96, 96, kernel_size=(3, 3), stride=(1, 1), padding=(1, 1))\n",
       "        (relu): ReLU(inplace=True)\n",
       "        (norm1): BatchNorm2d(96, eps=1e-05, momentum=0.1, affine=True, track_running_stats=True)\n",
       "        (norm2): BatchNorm2d(96, eps=1e-05, momentum=0.1, affine=True, track_running_stats=True)\n",
       "      )\n",
       "    )\n",
       "    (layer3): Sequential(\n",
       "      (0): ResidualBlock(\n",
       "        (conv1): Conv2d(96, 128, kernel_size=(3, 3), stride=(2, 2), padding=(1, 1))\n",
       "        (conv2): Conv2d(128, 128, kernel_size=(3, 3), stride=(1, 1), padding=(1, 1))\n",
       "        (relu): ReLU(inplace=True)\n",
       "        (norm1): BatchNorm2d(128, eps=1e-05, momentum=0.1, affine=True, track_running_stats=True)\n",
       "        (norm2): BatchNorm2d(128, eps=1e-05, momentum=0.1, affine=True, track_running_stats=True)\n",
       "        (norm3): BatchNorm2d(128, eps=1e-05, momentum=0.1, affine=True, track_running_stats=True)\n",
       "        (downsample): Sequential(\n",
       "          (0): Conv2d(96, 128, kernel_size=(1, 1), stride=(2, 2))\n",
       "          (1): BatchNorm2d(128, eps=1e-05, momentum=0.1, affine=True, track_running_stats=True)\n",
       "        )\n",
       "      )\n",
       "      (1): ResidualBlock(\n",
       "        (conv1): Conv2d(128, 128, kernel_size=(3, 3), stride=(1, 1), padding=(1, 1))\n",
       "        (conv2): Conv2d(128, 128, kernel_size=(3, 3), stride=(1, 1), padding=(1, 1))\n",
       "        (relu): ReLU(inplace=True)\n",
       "        (norm1): BatchNorm2d(128, eps=1e-05, momentum=0.1, affine=True, track_running_stats=True)\n",
       "        (norm2): BatchNorm2d(128, eps=1e-05, momentum=0.1, affine=True, track_running_stats=True)\n",
       "      )\n",
       "    )\n",
       "    (conv2): Conv2d(128, 256, kernel_size=(1, 1), stride=(1, 1))\n",
       "  )\n",
       "  (update_block): BasicUpdateBlock(\n",
       "    (encoder): BasicMotionEncoder(\n",
       "      (convc1): Conv2d(324, 256, kernel_size=(1, 1), stride=(1, 1))\n",
       "      (convc2): Conv2d(256, 192, kernel_size=(3, 3), stride=(1, 1), padding=(1, 1))\n",
       "      (convf1): Conv2d(2, 128, kernel_size=(7, 7), stride=(1, 1), padding=(3, 3))\n",
       "      (convf2): Conv2d(128, 64, kernel_size=(3, 3), stride=(1, 1), padding=(1, 1))\n",
       "      (conv): Conv2d(256, 126, kernel_size=(3, 3), stride=(1, 1), padding=(1, 1))\n",
       "    )\n",
       "    (gru): SepConvGRU(\n",
       "      (convz1): Conv2d(384, 128, kernel_size=(1, 5), stride=(1, 1), padding=(0, 2))\n",
       "      (convr1): Conv2d(384, 128, kernel_size=(1, 5), stride=(1, 1), padding=(0, 2))\n",
       "      (convq1): Conv2d(384, 128, kernel_size=(1, 5), stride=(1, 1), padding=(0, 2))\n",
       "      (convz2): Conv2d(384, 128, kernel_size=(5, 1), stride=(1, 1), padding=(2, 0))\n",
       "      (convr2): Conv2d(384, 128, kernel_size=(5, 1), stride=(1, 1), padding=(2, 0))\n",
       "      (convq2): Conv2d(384, 128, kernel_size=(5, 1), stride=(1, 1), padding=(2, 0))\n",
       "    )\n",
       "    (flow_head): FlowHead(\n",
       "      (conv1): Conv2d(128, 256, kernel_size=(3, 3), stride=(1, 1), padding=(1, 1))\n",
       "      (conv2): Conv2d(256, 2, kernel_size=(3, 3), stride=(1, 1), padding=(1, 1))\n",
       "      (relu): ReLU(inplace=True)\n",
       "    )\n",
       "    (mask): Sequential(\n",
       "      (0): Conv2d(128, 256, kernel_size=(3, 3), stride=(1, 1), padding=(1, 1))\n",
       "      (1): ReLU(inplace=True)\n",
       "      (2): Conv2d(256, 576, kernel_size=(1, 1), stride=(1, 1))\n",
       "    )\n",
       "  )\n",
       ")"
      ]
     },
     "execution_count": 5,
     "metadata": {},
     "output_type": "execute_result"
    }
   ],
   "source": [
    "#OPTICAL FLOW MODEL INITIALIZATION AND PROCESSING\n",
    "#Setting the configs for our RAFT deep learning model\n",
    "config = RAFTConfig(\n",
    "    dropout=0,\n",
    "    alternate_corr=False,\n",
    "    small=False,\n",
    "    mixed_precision=False\n",
    ")\n",
    "#generating the model and displaying it\n",
    "model = RAFT(config)\n",
    "model"
   ]
  },
  {
   "cell_type": "code",
   "execution_count": 6,
   "id": "5b52e569",
   "metadata": {},
   "outputs": [
    {
     "name": "stdout",
     "output_type": "stream",
     "text": [
      "device: cuda\n"
     ]
    },
    {
     "data": {
      "text/plain": [
       "<All keys matched successfully>"
      ]
     },
     "execution_count": 6,
     "metadata": {},
     "output_type": "execute_result"
    }
   ],
   "source": [
    "#setting device to run on cuda if nvidia gpu is present on pytorch for RAFT\n",
    "device = torch.device('cuda' if torch.cuda.is_available() else 'cpu')\n",
    "#https://stackoverflow.com/questions/48152674/how-to-check-if-pytorch-is-using-the-gpu\n",
    "print(f'device: {device}')\n",
    "\n",
    "#loading the pre-alloted weight\n",
    "weights_path = '/home/guest/Documents/raft-sintel.pth'\n",
    "\n",
    "ckpt = torch.load(weights_path, map_location=device)\n",
    "#putting the whole model to the device(gpu or cuda)\n",
    "model.to(device)\n",
    "model.load_state_dict(ckpt)\n",
    "#https://stackoverflow.com/questions/42703500/best-way-to-save-a-trained-model-in-pytorch"
   ]
  },
  {
   "cell_type": "code",
   "execution_count": 7,
   "id": "3bad6a5a",
   "metadata": {},
   "outputs": [
    {
     "data": {
      "text/plain": [
       "RAFT(\n",
       "  (fnet): BasicEncoder(\n",
       "    (norm1): InstanceNorm2d(64, eps=1e-05, momentum=0.1, affine=False, track_running_stats=False)\n",
       "    (conv1): Conv2d(3, 64, kernel_size=(7, 7), stride=(2, 2), padding=(3, 3))\n",
       "    (relu1): ReLU(inplace=True)\n",
       "    (layer1): Sequential(\n",
       "      (0): ResidualBlock(\n",
       "        (conv1): Conv2d(64, 64, kernel_size=(3, 3), stride=(1, 1), padding=(1, 1))\n",
       "        (conv2): Conv2d(64, 64, kernel_size=(3, 3), stride=(1, 1), padding=(1, 1))\n",
       "        (relu): ReLU(inplace=True)\n",
       "        (norm1): InstanceNorm2d(64, eps=1e-05, momentum=0.1, affine=False, track_running_stats=False)\n",
       "        (norm2): InstanceNorm2d(64, eps=1e-05, momentum=0.1, affine=False, track_running_stats=False)\n",
       "      )\n",
       "      (1): ResidualBlock(\n",
       "        (conv1): Conv2d(64, 64, kernel_size=(3, 3), stride=(1, 1), padding=(1, 1))\n",
       "        (conv2): Conv2d(64, 64, kernel_size=(3, 3), stride=(1, 1), padding=(1, 1))\n",
       "        (relu): ReLU(inplace=True)\n",
       "        (norm1): InstanceNorm2d(64, eps=1e-05, momentum=0.1, affine=False, track_running_stats=False)\n",
       "        (norm2): InstanceNorm2d(64, eps=1e-05, momentum=0.1, affine=False, track_running_stats=False)\n",
       "      )\n",
       "    )\n",
       "    (layer2): Sequential(\n",
       "      (0): ResidualBlock(\n",
       "        (conv1): Conv2d(64, 96, kernel_size=(3, 3), stride=(2, 2), padding=(1, 1))\n",
       "        (conv2): Conv2d(96, 96, kernel_size=(3, 3), stride=(1, 1), padding=(1, 1))\n",
       "        (relu): ReLU(inplace=True)\n",
       "        (norm1): InstanceNorm2d(96, eps=1e-05, momentum=0.1, affine=False, track_running_stats=False)\n",
       "        (norm2): InstanceNorm2d(96, eps=1e-05, momentum=0.1, affine=False, track_running_stats=False)\n",
       "        (norm3): InstanceNorm2d(96, eps=1e-05, momentum=0.1, affine=False, track_running_stats=False)\n",
       "        (downsample): Sequential(\n",
       "          (0): Conv2d(64, 96, kernel_size=(1, 1), stride=(2, 2))\n",
       "          (1): InstanceNorm2d(96, eps=1e-05, momentum=0.1, affine=False, track_running_stats=False)\n",
       "        )\n",
       "      )\n",
       "      (1): ResidualBlock(\n",
       "        (conv1): Conv2d(96, 96, kernel_size=(3, 3), stride=(1, 1), padding=(1, 1))\n",
       "        (conv2): Conv2d(96, 96, kernel_size=(3, 3), stride=(1, 1), padding=(1, 1))\n",
       "        (relu): ReLU(inplace=True)\n",
       "        (norm1): InstanceNorm2d(96, eps=1e-05, momentum=0.1, affine=False, track_running_stats=False)\n",
       "        (norm2): InstanceNorm2d(96, eps=1e-05, momentum=0.1, affine=False, track_running_stats=False)\n",
       "      )\n",
       "    )\n",
       "    (layer3): Sequential(\n",
       "      (0): ResidualBlock(\n",
       "        (conv1): Conv2d(96, 128, kernel_size=(3, 3), stride=(2, 2), padding=(1, 1))\n",
       "        (conv2): Conv2d(128, 128, kernel_size=(3, 3), stride=(1, 1), padding=(1, 1))\n",
       "        (relu): ReLU(inplace=True)\n",
       "        (norm1): InstanceNorm2d(128, eps=1e-05, momentum=0.1, affine=False, track_running_stats=False)\n",
       "        (norm2): InstanceNorm2d(128, eps=1e-05, momentum=0.1, affine=False, track_running_stats=False)\n",
       "        (norm3): InstanceNorm2d(128, eps=1e-05, momentum=0.1, affine=False, track_running_stats=False)\n",
       "        (downsample): Sequential(\n",
       "          (0): Conv2d(96, 128, kernel_size=(1, 1), stride=(2, 2))\n",
       "          (1): InstanceNorm2d(128, eps=1e-05, momentum=0.1, affine=False, track_running_stats=False)\n",
       "        )\n",
       "      )\n",
       "      (1): ResidualBlock(\n",
       "        (conv1): Conv2d(128, 128, kernel_size=(3, 3), stride=(1, 1), padding=(1, 1))\n",
       "        (conv2): Conv2d(128, 128, kernel_size=(3, 3), stride=(1, 1), padding=(1, 1))\n",
       "        (relu): ReLU(inplace=True)\n",
       "        (norm1): InstanceNorm2d(128, eps=1e-05, momentum=0.1, affine=False, track_running_stats=False)\n",
       "        (norm2): InstanceNorm2d(128, eps=1e-05, momentum=0.1, affine=False, track_running_stats=False)\n",
       "      )\n",
       "    )\n",
       "    (conv2): Conv2d(128, 256, kernel_size=(1, 1), stride=(1, 1))\n",
       "  )\n",
       "  (cnet): BasicEncoder(\n",
       "    (norm1): BatchNorm2d(64, eps=1e-05, momentum=0.1, affine=True, track_running_stats=True)\n",
       "    (conv1): Conv2d(3, 64, kernel_size=(7, 7), stride=(2, 2), padding=(3, 3))\n",
       "    (relu1): ReLU(inplace=True)\n",
       "    (layer1): Sequential(\n",
       "      (0): ResidualBlock(\n",
       "        (conv1): Conv2d(64, 64, kernel_size=(3, 3), stride=(1, 1), padding=(1, 1))\n",
       "        (conv2): Conv2d(64, 64, kernel_size=(3, 3), stride=(1, 1), padding=(1, 1))\n",
       "        (relu): ReLU(inplace=True)\n",
       "        (norm1): BatchNorm2d(64, eps=1e-05, momentum=0.1, affine=True, track_running_stats=True)\n",
       "        (norm2): BatchNorm2d(64, eps=1e-05, momentum=0.1, affine=True, track_running_stats=True)\n",
       "      )\n",
       "      (1): ResidualBlock(\n",
       "        (conv1): Conv2d(64, 64, kernel_size=(3, 3), stride=(1, 1), padding=(1, 1))\n",
       "        (conv2): Conv2d(64, 64, kernel_size=(3, 3), stride=(1, 1), padding=(1, 1))\n",
       "        (relu): ReLU(inplace=True)\n",
       "        (norm1): BatchNorm2d(64, eps=1e-05, momentum=0.1, affine=True, track_running_stats=True)\n",
       "        (norm2): BatchNorm2d(64, eps=1e-05, momentum=0.1, affine=True, track_running_stats=True)\n",
       "      )\n",
       "    )\n",
       "    (layer2): Sequential(\n",
       "      (0): ResidualBlock(\n",
       "        (conv1): Conv2d(64, 96, kernel_size=(3, 3), stride=(2, 2), padding=(1, 1))\n",
       "        (conv2): Conv2d(96, 96, kernel_size=(3, 3), stride=(1, 1), padding=(1, 1))\n",
       "        (relu): ReLU(inplace=True)\n",
       "        (norm1): BatchNorm2d(96, eps=1e-05, momentum=0.1, affine=True, track_running_stats=True)\n",
       "        (norm2): BatchNorm2d(96, eps=1e-05, momentum=0.1, affine=True, track_running_stats=True)\n",
       "        (norm3): BatchNorm2d(96, eps=1e-05, momentum=0.1, affine=True, track_running_stats=True)\n",
       "        (downsample): Sequential(\n",
       "          (0): Conv2d(64, 96, kernel_size=(1, 1), stride=(2, 2))\n",
       "          (1): BatchNorm2d(96, eps=1e-05, momentum=0.1, affine=True, track_running_stats=True)\n",
       "        )\n",
       "      )\n",
       "      (1): ResidualBlock(\n",
       "        (conv1): Conv2d(96, 96, kernel_size=(3, 3), stride=(1, 1), padding=(1, 1))\n",
       "        (conv2): Conv2d(96, 96, kernel_size=(3, 3), stride=(1, 1), padding=(1, 1))\n",
       "        (relu): ReLU(inplace=True)\n",
       "        (norm1): BatchNorm2d(96, eps=1e-05, momentum=0.1, affine=True, track_running_stats=True)\n",
       "        (norm2): BatchNorm2d(96, eps=1e-05, momentum=0.1, affine=True, track_running_stats=True)\n",
       "      )\n",
       "    )\n",
       "    (layer3): Sequential(\n",
       "      (0): ResidualBlock(\n",
       "        (conv1): Conv2d(96, 128, kernel_size=(3, 3), stride=(2, 2), padding=(1, 1))\n",
       "        (conv2): Conv2d(128, 128, kernel_size=(3, 3), stride=(1, 1), padding=(1, 1))\n",
       "        (relu): ReLU(inplace=True)\n",
       "        (norm1): BatchNorm2d(128, eps=1e-05, momentum=0.1, affine=True, track_running_stats=True)\n",
       "        (norm2): BatchNorm2d(128, eps=1e-05, momentum=0.1, affine=True, track_running_stats=True)\n",
       "        (norm3): BatchNorm2d(128, eps=1e-05, momentum=0.1, affine=True, track_running_stats=True)\n",
       "        (downsample): Sequential(\n",
       "          (0): Conv2d(96, 128, kernel_size=(1, 1), stride=(2, 2))\n",
       "          (1): BatchNorm2d(128, eps=1e-05, momentum=0.1, affine=True, track_running_stats=True)\n",
       "        )\n",
       "      )\n",
       "      (1): ResidualBlock(\n",
       "        (conv1): Conv2d(128, 128, kernel_size=(3, 3), stride=(1, 1), padding=(1, 1))\n",
       "        (conv2): Conv2d(128, 128, kernel_size=(3, 3), stride=(1, 1), padding=(1, 1))\n",
       "        (relu): ReLU(inplace=True)\n",
       "        (norm1): BatchNorm2d(128, eps=1e-05, momentum=0.1, affine=True, track_running_stats=True)\n",
       "        (norm2): BatchNorm2d(128, eps=1e-05, momentum=0.1, affine=True, track_running_stats=True)\n",
       "      )\n",
       "    )\n",
       "    (conv2): Conv2d(128, 256, kernel_size=(1, 1), stride=(1, 1))\n",
       "  )\n",
       "  (update_block): BasicUpdateBlock(\n",
       "    (encoder): BasicMotionEncoder(\n",
       "      (convc1): Conv2d(324, 256, kernel_size=(1, 1), stride=(1, 1))\n",
       "      (convc2): Conv2d(256, 192, kernel_size=(3, 3), stride=(1, 1), padding=(1, 1))\n",
       "      (convf1): Conv2d(2, 128, kernel_size=(7, 7), stride=(1, 1), padding=(3, 3))\n",
       "      (convf2): Conv2d(128, 64, kernel_size=(3, 3), stride=(1, 1), padding=(1, 1))\n",
       "      (conv): Conv2d(256, 126, kernel_size=(3, 3), stride=(1, 1), padding=(1, 1))\n",
       "    )\n",
       "    (gru): SepConvGRU(\n",
       "      (convz1): Conv2d(384, 128, kernel_size=(1, 5), stride=(1, 1), padding=(0, 2))\n",
       "      (convr1): Conv2d(384, 128, kernel_size=(1, 5), stride=(1, 1), padding=(0, 2))\n",
       "      (convq1): Conv2d(384, 128, kernel_size=(1, 5), stride=(1, 1), padding=(0, 2))\n",
       "      (convz2): Conv2d(384, 128, kernel_size=(5, 1), stride=(1, 1), padding=(2, 0))\n",
       "      (convr2): Conv2d(384, 128, kernel_size=(5, 1), stride=(1, 1), padding=(2, 0))\n",
       "      (convq2): Conv2d(384, 128, kernel_size=(5, 1), stride=(1, 1), padding=(2, 0))\n",
       "    )\n",
       "    (flow_head): FlowHead(\n",
       "      (conv1): Conv2d(128, 256, kernel_size=(3, 3), stride=(1, 1), padding=(1, 1))\n",
       "      (conv2): Conv2d(256, 2, kernel_size=(3, 3), stride=(1, 1), padding=(1, 1))\n",
       "      (relu): ReLU(inplace=True)\n",
       "    )\n",
       "    (mask): Sequential(\n",
       "      (0): Conv2d(128, 256, kernel_size=(3, 3), stride=(1, 1), padding=(1, 1))\n",
       "      (1): ReLU(inplace=True)\n",
       "      (2): Conv2d(256, 576, kernel_size=(1, 1), stride=(1, 1))\n",
       "    )\n",
       "  )\n",
       ")"
      ]
     },
     "execution_count": 7,
     "metadata": {},
     "output_type": "execute_result"
    }
   ],
   "source": [
    "model.eval()"
   ]
  },
  {
   "cell_type": "code",
   "execution_count": 8,
   "id": "aee0b4a3",
   "metadata": {},
   "outputs": [],
   "source": [
    "#OBJECT DETECTION MODEL INITIALIZATION AND PROCESSING\n",
    "# returns a deep learning network using the yolov4 format\n",
    "net = cv2.dnn.readNet('yolov4.weights', 'yolov4.cfg')\n",
    "# cv2.dnn.readNet=>https://docs.opencv.org/3.4/d6/d0f/group__dnn.html#ga3b34fe7a29494a6a4295c169a7d32422\n",
    "# type net=Net object=>https://docs.opencv.org/3.4/db/d30/classcv_1_1dnn_1_1Net.html"
   ]
  },
  {
   "cell_type": "code",
   "execution_count": 9,
   "id": "fecee316",
   "metadata": {},
   "outputs": [],
   "source": [
    "net.setPreferableBackend(cv2.dnn.DNN_BACKEND_CUDA)\n",
    "#https://docs.opencv.org/3.4/db/d30/classcv_1_1dnn_1_1Net.html#a7f767df11386d39374db49cd8df8f59e\n",
    "net.setPreferableTarget(cv2.dnn.DNN_TARGET_CUDA)\n",
    "#https://docs.opencv.org/3.4/db/d30/classcv_1_1dnn_1_1Net.html#a9dddbefbc7f3defbe3eeb5dc3d3483f4"
   ]
  },
  {
   "cell_type": "code",
   "execution_count": 10,
   "id": "1c022c61",
   "metadata": {},
   "outputs": [
    {
     "name": "stdout",
     "output_type": "stream",
     "text": [
      "1\n"
     ]
    }
   ],
   "source": [
    "#verify that gpu is being used, 1 means 1 device is gpu-enabled\n",
    "#https://stackoverflow.com/questions/61492452/how-to-check-if-opencv-is-using-gpu-or-not\n",
    "count = cv2.cuda.getCudaEnabledDeviceCount()\n",
    "print(count)"
   ]
  },
  {
   "cell_type": "code",
   "execution_count": 11,
   "id": "f02fc03c",
   "metadata": {},
   "outputs": [],
   "source": [
    "def load_image(imfile, device):\n",
    "    img = np.array(Image.fromarray(imfile)).astype(np.uint8)\n",
    "    img = torch.from_numpy(img).permute(2, 0, 1).float()\n",
    "    return img[None].to(device)\n",
    "\n",
    "\n",
    "def viz(img1, img2, flo):\n",
    "    img1 = img1[0].permute(1,2,0).cpu().numpy()\n",
    "    img2 = img2[0].permute(1,2,0).cpu().numpy()\n",
    "    flo = flo[0].permute(1,2,0).cpu().numpy()\n",
    "    \n",
    "    # map flow to rgb image\n",
    "    flo = flow_viz.flow_to_image(flo)\n",
    "    \n",
    "    fig, (ax1, ax2, ax3) = plt.subplots(1, 3, figsize=(20, 4))\n",
    "    ax1.set_title('input image1')\n",
    "    ax1.imshow(img1.astype(int))\n",
    "    ax2.set_title('input image2')\n",
    "    ax2.imshow(img2.astype(int))\n",
    "    ax3.set_title('estimated optical flow')\n",
    "    ax3.imshow(flo)\n",
    "    plt.show()\n"
   ]
  },
  {
   "cell_type": "code",
   "execution_count": 19,
   "id": "2ba63ff6",
   "metadata": {
    "scrolled": true
   },
   "outputs": [],
   "source": [
    "def flow_res(file1,file2):\n",
    "    #n_vis = 4\n",
    "    \n",
    "    image1 = load_image(file1, device)\n",
    "    image2 = load_image(file2, device)\n",
    "    \n",
    "    padder = InputPadder(image1.shape)\n",
    "    \n",
    "    image1, image2 = padder.pad(image1, image2)\n",
    "    \n",
    "    #no backpropogation\n",
    "    #https://datascience.stackexchange.com/questions/32651/what-is-the-use-of-torch-no-grad-in-pytorch\n",
    "    with torch.no_grad():\n",
    "        flow_low, flow_up = model(image1, image2, iters=20, test_mode=True)\n",
    "        \n",
    "    #viz(image1, image2, flow_up)\n",
    "    \n",
    "    npa = flow_up.to('cpu').numpy()\n",
    "    _,dims,y,x=npa.shape\n",
    "    result=np.reshape(npa,(y,x,dims))\n",
    "    \n",
    "    return result\n"
   ]
  },
  {
   "cell_type": "code",
   "execution_count": 13,
   "id": "eb6f5c0e",
   "metadata": {},
   "outputs": [],
   "source": [
    "def write_file(filename,itemlist):\n",
    "    #dumping contents of train vector onto file through pickle, which is more efficient\n",
    "    pickle_out=open(filename,\"wb\")\n",
    "    pickle.dump(itemlist,pickle_out)\n",
    "    pickle_out.close()\n",
    "    #https://pythonprogramming.net/python-pickle-module-save-objects-serialization/"
   ]
  },
  {
   "cell_type": "code",
   "execution_count": 14,
   "id": "bdbaed59",
   "metadata": {},
   "outputs": [],
   "source": [
    "def get_flow_patches(flow,boxes,idx):\n",
    "    flows=[]\n",
    "    if len(idx)>0:\n",
    "        for i in idx.flatten():\n",
    "            center_x,center_y,w,h=boxes[i]\n",
    "            x=int(center_x-(w/2))\n",
    "            y=int(center_y-(h/2))\n",
    "            subx=0\n",
    "            suby=0\n",
    "            \n",
    "            if x<0 or x>=flow.shape[1]:\n",
    "                subx=x if x<0 else -1*x\n",
    "                x=0 if x<0 else flow.shape[1]-1\n",
    "            if y<0 or y>=flow.shape[0]:\n",
    "                suby=y if y<0 else -1*y\n",
    "                y=0 if y<0 else flow.shape[0]-1\n",
    "            flows.append(flow[y:y+int(h)+suby,x:x+int(w)+subx,:])\n",
    "    return flows"
   ]
  },
  {
   "cell_type": "code",
   "execution_count": 79,
   "id": "9ceceaa5",
   "metadata": {},
   "outputs": [],
   "source": [
    "def frames_process2(frames_path, feature_matrix):\n",
    "    frame_prev=None\n",
    "    for img in np.sort(os.listdir(frames_path)):\n",
    "        \n",
    "        if img.endswith(\".jpg\"):\n",
    "            image_path=os.path.join(frames_path,img)\n",
    "            #print(image_path)\n",
    "            # for running optical flow algorithm we need previous frame as well\n",
    "            if frame_prev is None:\n",
    "                frame_prev=cv2.imread(image_path)\n",
    "                #imread->https://www.geeksforgeeks.org/python-opencv-cv2-imread-method/\n",
    "                continue\n",
    "            \n",
    "            frame=cv2.imread(image_path)\n",
    "            \n",
    "            (height, width, _) = frame.shape\n",
    "            \n",
    "            #APPLYING OPTICAL FLOW ON THE FRAMES\n",
    "            flow=flow_res(frame_prev,frame)\n",
    "            # RUNNING YOLOv4 OBJECT DETECTION \n",
    "            # preprocessing the frame before feeding it to the neural net.\n",
    "            # scale the pixel values to 1/255=>1/255\n",
    "            # Resizing frame to (416,416) pixels as yolov4 architecture works on frame of that size.\n",
    "            # No mean supplied to the three R,G,B channels=>(0,0,0)\n",
    "            # OpenCV assumes images are in BGR channel order, thus we must swap the R and B channels of the original RGB frame=> swapRB=true\n",
    "            # No cropping of the frame=>crop=False\n",
    "            blob = cv2.dnn.blobFromImage(frame,1 / 255,(416, 416),(0, 0, 0),swapRB=True,crop=False)\n",
    "            # above parameters are needed for yolov4 detection!\n",
    "            # cv2.dnn.blobFromImage=> creates processed 4-dimensional blob for use in our neural net.Further info=> https://www.pyimagesearch.com/2017/11/06/deep-learning-opencvs-blobfromimage-works/\n",
    "\n",
    "            # setting input to neural net\n",
    "            net.setInput(blob)\n",
    "\n",
    "            # net.getUnconnectedOutLayers(): It gives you the final layers number in the list from net.getLayerNames().\n",
    "            output_layer_names = net.getUnconnectedOutLayersNames()\n",
    "\n",
    "            # Runs forward pass to compute output of layer with name outputName\n",
    "            layerOutputs = net.forward(output_layer_names)\n",
    "\n",
    "            # model output=>https://stackoverflow.com/questions/57112038/yolo-v3-model-output-clarification-with-keras\n",
    "            # There are 3 output layers in YOLO for 3 different resolutions of grid boxes over which object is detected(13,13)(26,26)(52,52)\n",
    "\n",
    "            # boxes stores the location properties of detected objects\n",
    "            # confidences stores the confidence score of detecting that object\n",
    "\n",
    "            boxes = []\n",
    "            confidences = []\n",
    "            appearance = []\n",
    "\n",
    "            # traversing through the 3 outputs at varying resolution\n",
    "\n",
    "            for output in layerOutputs:\n",
    "                for detection in output:\n",
    "                    # detection holds the location(first 5 elements) and class probabilities(rest 80 elements)\n",
    "                    scores = detection[5:]\n",
    "\n",
    "                    # selecting the index of maximum class probabilty of total 80 classes and its probability value as well\n",
    "\n",
    "                    class_id = np.argmax(scores)\n",
    "                    confidence = scores[class_id]\n",
    "\n",
    "                    # check to filter objects we are entirely sure belong to some class\n",
    "\n",
    "                    if confidence > 0.6:\n",
    "\n",
    "                        # Extracting the center coordinates of the bounding box\n",
    "                        # we need to convert back to original dimensions thus multiply by width,height is important\n",
    "                        # print(detection[0])\n",
    "\n",
    "                        center_x = detection[0] * width\n",
    "                        center_y = detection[1] * height\n",
    "\n",
    "                        # extracting the width and height of bounding box\n",
    "\n",
    "                        w = detection[2] * width\n",
    "                        h = detection[3] * height\n",
    "                        boxes.append([center_x, center_y, w, h])\n",
    "                        confidences.append(float(confidence))\n",
    "                        appearance.append(scores)\n",
    "\n",
    "            indexes = cv2.dnn.NMSBoxes(boxes, confidences, 0.6, 0.4)\n",
    "\n",
    "            # NMSBoxes=>https://towardsdatascience.com/non-maximum-suppression-nms-93ce178e177c\n",
    "\n",
    "            i = 0\n",
    "            if boxes != []:\n",
    "                # extract flow ptached corresponsing to bounding box coordinates for detected objects\n",
    "                flows=get_flow_patches(flow,boxes,indexes)\n",
    "                \n",
    "                if flows!=[]:\n",
    "                    for flow_patch in flows:\n",
    "                        mag, _ = cv2.cartToPolar(flow_patch[..., 0], flow_patch[..., 1])\n",
    "                        \n",
    "                        #computing mean, variance, kurtosis and skew of the magnitude of velocity vectors\n",
    "                        #motion metric\n",
    "                        mean=np.mean(mag)\n",
    "                        variance=np.var(mag)\n",
    "                        kurtosis_=kurtosis(mag,None)\n",
    "                        skew_=skew(mag,None)\n",
    "                        \n",
    "                        #location metric\n",
    "                        cx,cy,wi,hi=boxes[indexes.flatten()[i]]\n",
    "                        \n",
    "                        #appearance[indexes.flatten()[i]]-> appearance metric\n",
    "                        \n",
    "                        #now creating feature vector for the object and appending feature vector of given object to feature matrix along with their weight\n",
    "                        feature_matrix.append([mean,variance,kurtosis_,skew_]+[0.4*cx,0.4*cy,0.4*wi*hi]+list(0.9*appearance[indexes.flatten()[i]]))\n",
    "                        \n",
    "                        i=i+1\n",
    "               \n",
    "\n",
    "            # updating previous frame\n",
    "\n",
    "            frame_prev = frame\n",
    "        \n",
    "    cv2.destroyAllWindows()"
   ]
  },
  {
   "cell_type": "code",
   "execution_count": 80,
   "id": "93fc5cd9",
   "metadata": {},
   "outputs": [],
   "source": [
    "def frames_process(frames_path, feature_matrix):\n",
    "    frame_prev=None\n",
    "    for img in np.sort(os.listdir(frames_path)):\n",
    "        \n",
    "        if img.endswith(\".jpg\"):\n",
    "            image_path=os.path.join(frames_path,img)\n",
    "            #print(image_path)\n",
    "            # for running optical flow algorithm we need previous frame as well\n",
    "            if frame_prev is None:\n",
    "                frame_prev=cv2.imread(image_path)\n",
    "                #imread->https://www.geeksforgeeks.org/python-opencv-cv2-imread-method/\n",
    "                continue\n",
    "            \n",
    "            frame=cv2.imread(image_path)\n",
    "            \n",
    "            (height, width, _) = frame.shape\n",
    "            \n",
    "            #APPLYING OPTICAL FLOW ON THE FRAMES\n",
    "            #Preprocessing to gray scale\n",
    "            prvs=cv2.cvtColor(frame_prev,cv2.COLOR_BGR2GRAY)\n",
    "            curr=cv2.cvtColor(frame,cv2.COLOR_BGR2GRAY)\n",
    "            #Dense optical flow algorithm\n",
    "            flow=cv2.calcOpticalFlowFarneback(prvs, curr, None, 0.5, 3, 15, 3, 5, 1.2, 0)\n",
    "            \n",
    "            # RUNNING YOLOv4 OBJECT DETECTION \n",
    "            # preprocessing the frame before feeding it to the neural net.\n",
    "            # scale the pixel values to 1/255=>1/255\n",
    "            # Resizing frame to (416,416) pixels as yolov4 architecture works on frame of that size.\n",
    "            # No mean supplied to the three R,G,B channels=>(0,0,0)\n",
    "            # OpenCV assumes images are in BGR channel order, thus we must swap the R and B channels of the original RGB frame=> swapRB=true\n",
    "            # No cropping of the frame=>crop=False\n",
    "            blob = cv2.dnn.blobFromImage(frame,1 / 255,(416, 416),(0, 0, 0),swapRB=True,crop=False)\n",
    "            # above parameters are needed for yolov4 detection!\n",
    "            # cv2.dnn.blobFromImage=> creates processed 4-dimensional blob for use in our neural net.Further info=> https://www.pyimagesearch.com/2017/11/06/deep-learning-opencvs-blobfromimage-works/\n",
    "\n",
    "            # setting input to neural net\n",
    "            net.setInput(blob)\n",
    "\n",
    "            # net.getUnconnectedOutLayers(): It gives you the final layers number in the list from net.getLayerNames().\n",
    "            output_layer_names = net.getUnconnectedOutLayersNames()\n",
    "\n",
    "            # Runs forward pass to compute output of layer with name outputName\n",
    "            layerOutputs = net.forward(output_layer_names)\n",
    "\n",
    "            # model output=>https://stackoverflow.com/questions/57112038/yolo-v3-model-output-clarification-with-keras\n",
    "            # There are 3 output layers in YOLO for 3 different resolutions of grid boxes over which object is detected(13,13)(26,26)(52,52)\n",
    "\n",
    "            # boxes stores the location properties of detected objects\n",
    "            # confidences stores the confidence score of detecting that object\n",
    "\n",
    "            boxes = []\n",
    "            confidences = []\n",
    "            appearance = []\n",
    "\n",
    "            # traversing through the 3 outputs at varying resolution\n",
    "\n",
    "            for output in layerOutputs:\n",
    "                for detection in output:\n",
    "                    # detection holds the location(first 5 elements) and class probabilities(rest 80 elements)\n",
    "                    scores = detection[5:]\n",
    "\n",
    "                    # selecting the index of maximum class probabilty of total 80 classes and its probability value as well\n",
    "\n",
    "                    class_id = np.argmax(scores)\n",
    "                    confidence = scores[class_id]\n",
    "\n",
    "                    # check to filter objects we are entirely sure belong to some class\n",
    "\n",
    "                    if confidence > 0.6:\n",
    "\n",
    "                        # Extracting the center coordinates of the bounding box\n",
    "                        # we need to convert back to original dimensions thus multiply by width,height is important\n",
    "                        # print(detection[0])\n",
    "\n",
    "                        center_x = detection[0] * width\n",
    "                        center_y = detection[1] * height\n",
    "\n",
    "                        # extracting the width and height of bounding box\n",
    "\n",
    "                        w = detection[2] * width\n",
    "                        h = detection[3] * height\n",
    "                        boxes.append([center_x, center_y, w, h])\n",
    "                        confidences.append(float(confidence))\n",
    "                        appearance.append(scores)\n",
    "\n",
    "            indexes = cv2.dnn.NMSBoxes(boxes, confidences, 0.6, 0.4)\n",
    "\n",
    "            # NMSBoxes=>https://towardsdatascience.com/non-maximum-suppression-nms-93ce178e177c\n",
    "\n",
    "            i = 0\n",
    "            if boxes != []:\n",
    "                # extract flow ptached corresponsing to bounding box coordinates for detected objects\n",
    "                flows=get_flow_patches(flow,boxes,indexes)\n",
    "                \n",
    "                if flows!=[]:\n",
    "                    for flow_patch in flows:\n",
    "                        mag, _ = cv2.cartToPolar(flow_patch[..., 0], flow_patch[..., 1])\n",
    "                        \n",
    "                        #computing mean, variance, kurtosis and skew of the magnitude of velocity vectors\n",
    "                        #motion metric\n",
    "                        mean=np.mean(mag)\n",
    "                        variance=np.var(mag)\n",
    "                        kurtosis_=kurtosis(mag,None)\n",
    "                        skew_=skew(mag,None)\n",
    "                        \n",
    "                        #location metric\n",
    "                        cx,cy,wi,hi=boxes[indexes.flatten()[i]]\n",
    "                        \n",
    "                        #appearance[indexes.flatten()[i]]-> appearance metric\n",
    "                        \n",
    "                        #now creating feature vector for the object and appending feature vector of given object to feature matrix along with their weight\n",
    "                        feature_matrix.append([mean,variance,kurtosis_,skew_]+[0.4*cx,0.4*cy,0.4*wi*hi]+list(0.9*appearance[indexes.flatten()[i]]))\n",
    "                        \n",
    "                        i=i+1\n",
    "               \n",
    "\n",
    "            # updating previous frame\n",
    "\n",
    "            frame_prev = frame\n",
    "        \n",
    "    cv2.destroyAllWindows()"
   ]
  },
  {
   "cell_type": "code",
   "execution_count": 81,
   "id": "73ac0c8c",
   "metadata": {},
   "outputs": [],
   "source": [
    "def vid_process(video_path,feature_matrix):\n",
    "    cap=cv2.VideoCapture(video_path)\n",
    "    if(cap.isOpened()==False): \n",
    "        print(\"Error connecting to camera\")\n",
    "        return -1\n",
    "    ret,frame_prev=cap.read()\n",
    "    if ret==False:\n",
    "        print(\"Error loading frame\")\n",
    "        return\n",
    "    while cap.isOpened():\n",
    "        ret,frame=cap.read()\n",
    "        if ret:\n",
    "            height,width,_=frame.shape\n",
    "            #start=timer()\n",
    "            flow=flow_res(frame_prev,frame)\n",
    "            #end=timer()\n",
    "            #print(\"Frame completed in \",end-start, \" seconds\")\n",
    "            \n",
    "            blob=cv2.dnn.blobFromImage(frame,1/255,(416,416),(0,0,0),swapRB=True,crop=False)\n",
    "            net.setInput(blob)\n",
    "            output_layer_names=net.getUnconnectedOutLayersNames()\n",
    "            layerOutputs=net.forward(output_layer_names)\n",
    "            boxes=[]\n",
    "            confidences=[]\n",
    "            appearance=[]\n",
    "            for output in layerOutputs:\n",
    "                for detection in output:\n",
    "                    scores=detection[5:]\n",
    "                    class_id=np.argmax(scores)\n",
    "                    confidence=scores[class_id]\n",
    "                    if(confidence>0.6):\n",
    "                        center_x=detection[0]*width\n",
    "                        center_y=detection[1]*height\n",
    "                        w=detection[2]*width\n",
    "                        h=detection[3]*height\n",
    "                        boxes.append([center_x,center_y,w,h])\n",
    "                        confidences.append(float(confidence))\n",
    "                        appearance.append(scores)\n",
    "            \n",
    "            indexes=cv2.dnn.NMSBoxes(boxes,confidences,0.6,0.4)\n",
    "            i=0\n",
    "            if boxes!=[]:\n",
    "                flows=get_flow_patches(flow,boxes,indexes)\n",
    "                if flows!=[]:\n",
    "                    for flow_patch in flows:\n",
    "                        mag, _ = cv2.cartToPolar(flow_patch[..., 0], flow_patch[..., 1])\n",
    "                        mean=np.mean(mag)\n",
    "                        variance=np.var(mag)\n",
    "                        kurtosis_=kurtosis(mag,None)\n",
    "                        skew_=skew(mag,None)\n",
    "                        cx,cy,wi,hi=boxes[indexes.flatten()[i]]\n",
    "                        feature_matrix.append([mean,variance,kurtosis_,skew_]+[0.4*cx,0.4*cy,0.4*wi*hi]+list(0.9*appearance[indexes.flatten()[i]]))\n",
    "                        i=i+1\n",
    "            frame_prev=frame\n",
    "            key=cv2.waitKey(1)\n",
    "            if(key==27):\n",
    "                break\n",
    "        else:\n",
    "            print(\"End of frames\")\n",
    "            return\n",
    "    cap.release()\n",
    "    cv2.destroyAllWindows()"
   ]
  },
  {
   "cell_type": "code",
   "execution_count": 82,
   "id": "95e02651",
   "metadata": {},
   "outputs": [],
   "source": [
    "def vid_process2(video_path,feature_matrix):\n",
    "    #get video capture object for the camera for the specified video file \n",
    "    cap=cv2.VideoCapture(video_path)\n",
    "    \n",
    "    #Sometimes, cap may not have initialized the capture. \n",
    "    #You can check whether it is initialized or not by the method cap.isOpened().\n",
    "    if(cap.isOpened()==False): \n",
    "        print(\"Error connecting to camera\")\n",
    "        return -1\n",
    "    \n",
    "    #for running optical flow algorithm we need previous frame as well\n",
    "    ret,frame_prev=cap.read()\n",
    "    #cap.read() returns a bool (True/False) which is stored in \"ret\" here. \n",
    "    #If the frame is read correctly, it will be True    \n",
    "    \n",
    "    if ret==False:\n",
    "        print(\"Error loading frame\")\n",
    "        return\n",
    "    while cap.isOpened():\n",
    "        \n",
    "        ret,frame=cap.read()\n",
    "        \n",
    "        if ret:\n",
    "            #storing original frame dimensions\n",
    "            height,width,_=frame.shape\n",
    "            \n",
    "            #APPLYING OPTICAL FLOW ON THE FRAMES\n",
    "            #Preprocessing to gray scale\n",
    "            prvs=cv2.cvtColor(frame_prev,cv2.COLOR_BGR2GRAY)\n",
    "            curr=cv2.cvtColor(frame,cv2.COLOR_BGR2GRAY)\n",
    "            #Dense optical flow algorithm\n",
    "            flow=cv2.calcOpticalFlowFarneback(prvs, curr, None, 0.5, 3, 15, 3, 5, 1.2, 0)\n",
    "            \n",
    "            #RUNNING YOLOv4 OBJECT DETECTION now\n",
    "            #preprocessing the frame before feeding it to the neural net. \n",
    "            #scale the pixel values to 1/255=>1/255\n",
    "            #Resizing frame to (416,416) pixels as yolov4 architecture works on frame of that size.\n",
    "            #No mean supplied to the three R,G,B channels=>(0,0,0)\n",
    "            #OpenCV assumes images are in BGR channel order, thus we must swap the R and B channels of the original RGB frame=> swapRB=true\n",
    "            #No cropping of the frame=>crop=False\n",
    "            blob=cv2.dnn.blobFromImage(frame,1/255,(416,416),(0,0,0),swapRB=True,crop=False)\n",
    "            #above parameters are needed for yolov4 detection!\n",
    "            #cv2.dnn.blobFromImage=> creates processed 4-dimensional blob for use in our neural net.Further info=> https://www.pyimagesearch.com/2017/11/06/deep-learning-opencvs-blobfromimage-works/\n",
    "            \n",
    "            #setting input to neural net\n",
    "            net.setInput(blob)\n",
    "            \n",
    "            #net.getUnconnectedOutLayers(): It gives you the final layers number in the list from net.getLayerNames().\n",
    "            output_layer_names=net.getUnconnectedOutLayersNames()\n",
    "            \n",
    "            #Runs forward pass to compute output of layer with name outputName\n",
    "            layerOutputs=net.forward(output_layer_names)\n",
    "            #model output=>https://stackoverflow.com/questions/57112038/yolo-v3-model-output-clarification-with-keras\n",
    "            #There are 3 output layers in YOLO for 3 different resolutions of grid boxes over which object is detected(13,13)(26,26)(52,52)\n",
    "            \n",
    "            #boxes stores the location properties of detected objects\n",
    "            #confidences stores the confidence score of detecting that object\n",
    "            boxes=[]\n",
    "            confidences=[]\n",
    "            appearance=[]\n",
    "            \n",
    "            #traversing through the 3 outputs at varying resolution\n",
    "            for output in layerOutputs:\n",
    "                for detection in output:\n",
    "                    #detection holds the location(first 5 elements) and class probabilities(rest 80 elements)\n",
    "                    scores=detection[5:]\n",
    "                    #print(scores)\n",
    "                    #selecting the index of maximum class probabilty of total 80 classes and its probability value as well\n",
    "                    class_id=np.argmax(scores)\n",
    "                    confidence=scores[class_id]\n",
    "                    #check to filter objects we are entirely sure belong to some class\n",
    "                    if(confidence>0.6):\n",
    "                        #Extracting the center coordinates of the bounding box\n",
    "                        #we need to convert back to original dimensions thus multiply by width,height is important\n",
    "                        #print(detection[0])\n",
    "                        center_x=detection[0]*width\n",
    "                        center_y=detection[1]*height\n",
    "                        #extracting the width and height of bounding box\n",
    "                        w=detection[2]*width\n",
    "                        h=detection[3]*height\n",
    "                        boxes.append([center_x,center_y,w,h])\n",
    "                        confidences.append(float(confidence))\n",
    "                        appearance.append(scores)\n",
    "            \n",
    "            indexes=cv2.dnn.NMSBoxes(boxes,confidences,0.6,0.4)\n",
    "            #NMSBoxes=>https://towardsdatascience.com/non-maximum-suppression-nms-93ce178e177c\n",
    "            i=0\n",
    "            if boxes!=[]:\n",
    "                \n",
    "                #extract flow area corresponsing to bounding box coordinates for detected objects\n",
    "                flows=get_flow_patches(flow,boxes,indexes)\n",
    "                if flows!=[]:\n",
    "                    for flow_patch in flows:\n",
    "                        mag, _ = cv2.cartToPolar(flow_patch[..., 0], flow_patch[..., 1])\n",
    "                        #computing mean, variance, kurtosis and skew of the magnitude of velocity vectors\n",
    "                        #motion metric\n",
    "                        mean=np.mean(mag)\n",
    "                        variance=np.var(mag)\n",
    "                        kurtosis_=kurtosis(mag,None)\n",
    "                        skew_=skew(mag,None)\n",
    "                        #location metric\n",
    "                        cx,cy,wi,hi=boxes[indexes.flatten()[i]]\n",
    "                        #appearance[indexes.flatten()[i]]-> appearance metric\n",
    "                        #now creating feature vector for the object and appending feature vector of given object to feature matrix along with their weight\n",
    "                        feature_matrix.append([mean,variance,kurtosis_,skew_]+[0.4*cx,0.4*cy,0.4*wi*hi]+list(0.9*appearance[indexes.flatten()[i]]))\n",
    "                        i=i+1\n",
    "                        \n",
    "                        \n",
    "            #updating previous frame            \n",
    "            frame_prev=frame\n",
    "            key=cv2.waitKey(1)\n",
    "            \n",
    "            #cv2.waitKey([delay])=>The function waitKey waits for a key event infinitely and the delay is in milliseconds. waitKey(0) means forever.\n",
    "            #For more details=>https://stackoverflow.com/questions/57690899/how-cv2-waitkey1-0xff-ordq-works\n",
    "            \n",
    "            #if pressed key has ASCII value 27 i.e q\n",
    "            if(key==27):\n",
    "                break\n",
    "            \n",
    "            #if len(indexes)>0:\n",
    "            #for i in indexes.flatten():                        \n",
    "            \n",
    "        else:\n",
    "            print(\"End of frames\")\n",
    "            return\n",
    "    cap.release()\n",
    "    cv2.destroyAllWindows()"
   ]
  },
  {
   "cell_type": "code",
   "execution_count": 83,
   "id": "ec147a2f",
   "metadata": {},
   "outputs": [
    {
     "name": "stdout",
     "output_type": "stream",
     "text": [
      "Ped2 dataset\n",
      "Video completed in  9.731798859000264  seconds\n",
      "Video completed in  10.134283232000598  seconds\n",
      "Video completed in  12.055282129000261  seconds\n",
      "Video completed in  14.471710972997244  seconds\n",
      "Video completed in  14.504907258000458  seconds\n",
      "Video completed in  14.477694615998189  seconds\n",
      "Video completed in  12.141610586997558  seconds\n",
      "Video completed in  12.120555994002643  seconds\n",
      "Video completed in  12.097955307999655  seconds\n",
      "Video completed in  14.601035939002031  seconds\n",
      "Video completed in  12.259003314000438  seconds\n",
      "Video completed in  12.14880359000017  seconds\n",
      "Video completed in  12.106651910002256  seconds\n",
      "Video completed in  14.486938856000052  seconds\n",
      "Video completed in  14.614000396999472  seconds\n",
      "Video completed in  14.505980231999274  seconds\n"
     ]
    }
   ],
   "source": [
    "#TRAINING THE DATASET\n",
    "train_vector=[]\n",
    "#Getting the parent directory\n",
    "parent_directory=os.path.dirname(os.getcwd())\n",
    "#os.path.dirname() method in Python is used to get directory name from the specified path \n",
    "#i.e the directory that hold the current file\n",
    "#Python method os.getcwd() returns current working directory of a process.\n",
    "#For more info->https://www.geeksforgeeks.org/python-os-path-dirname-method/\n",
    "\n",
    "#accesing the DATASET directory\n",
    "direc=os.path.join(parent_directory,'Dataset')\n",
    "#os.path.join-> https://www.geeksforgeeks.org/python-os-path-join-method/\n",
    "\n",
    "\n",
    "\n",
    "print(\"Ped2 dataset\")\n",
    "#using the PEDESTRIAN training dataset\n",
    "curr_direc=os.path.join(direc,'ped2','training','frames')\n",
    "for subdirec in os.listdir(curr_direc):\n",
    "    video_frames=os.path.join(curr_direc,subdirec)\n",
    "    start=timer()\n",
    "    frames_process(video_frames,train_vector)\n",
    "    end=timer()\n",
    "    print(\"Video completed in \",end-start, \" seconds\")\n"
   ]
  },
  {
   "cell_type": "code",
   "execution_count": null,
   "id": "a3996f54",
   "metadata": {},
   "outputs": [],
   "source": [
    "print(\"Avenue dataset\")\n",
    "#first using the AVENUE DATASET training videos \n",
    "curr_direc=os.path.join(direc,'Avenue Dataset','training_videos')\n",
    "for filename in os.listdir(curr_direc):\n",
    "    \n",
    "    #os.listdir->https://www.geeksforgeeks.org/python-os-listdir-method/\n",
    "    if filename.endswith(\".avi\"):\n",
    "        print(filename)\n",
    "        start=timer()\n",
    "        vid_process(os.path.join(curr_direc,filename),train_vector)\n",
    "        end=timer()\n",
    "        print(\"Completed in \",end-start,\" seconds\")"
   ]
  },
  {
   "cell_type": "code",
   "execution_count": 84,
   "id": "a867f6e4",
   "metadata": {},
   "outputs": [],
   "source": [
    "import numpy.matlib\n",
    "def knndis(t,M2):\n",
    "    #A vectorised implementation of finding KNN distance between a single point and the M2 matrix\n",
    "    Mg=M2.shape[0]\n",
    "    #this will replicate the feature vector of 't' Mg times columnwise. \n",
    "    #To subtract, transpose is taken to make it compatible\n",
    "    #Sum is taken of each row\n",
    "    \n",
    "    dist=np.sqrt(np.sum((np.matlib.repmat(t,Mg,1) - M2)**2,1))\n",
    "    #np.matlib.repmat->Repeat given matrix columnwise(mg) and rowise(1)-> https://numpy.org/doc/stable/reference/generated/numpy.matlib.repmat.html\n",
    "    \n",
    "    #sorting the distance according to ascending order\n",
    "    np.sort(dist)\n",
    "    \n",
    "    #return the sum of first 10 neighbours i.e k=10\n",
    "    return sum(dist[0:10])/10"
   ]
  },
  {
   "cell_type": "code",
   "execution_count": 85,
   "id": "73bb3e3f",
   "metadata": {},
   "outputs": [
    {
     "name": "stdout",
     "output_type": "stream",
     "text": [
      "(18542, 87)\n"
     ]
    }
   ],
   "source": [
    "#randomly shuffling the feature matrix\n",
    "#print(train_vector)\n",
    "np.random.shuffle(train_vector)\n",
    "#random.shuffle-> shuffle contents of array inplace along the first axis of multi-array. \n",
    "#for more details->https://numpy.org/doc/stable/reference/random/generated/numpy.random.shuffle.html\n",
    "\n",
    "#converting to np array for later modifications\n",
    "train_feature_matrix=np.array(train_vector)\n",
    "print(train_feature_matrix.shape)\n"
   ]
  },
  {
   "cell_type": "code",
   "execution_count": 86,
   "id": "f8588eca",
   "metadata": {},
   "outputs": [
    {
     "name": "stdout",
     "output_type": "stream",
     "text": [
      "g_min [ 2.45372489e-01  6.90652741e-05 -1.83496210e+00 -5.66435069e+00\n",
      "  1.06003998e+00  3.91894197e+01  1.47841874e+01  0.00000000e+00\n",
      "  0.00000000e+00  0.00000000e+00  0.00000000e+00  0.00000000e+00\n",
      "  0.00000000e+00  0.00000000e+00  0.00000000e+00  0.00000000e+00\n",
      "  0.00000000e+00  0.00000000e+00  0.00000000e+00  0.00000000e+00\n",
      "  0.00000000e+00  0.00000000e+00  0.00000000e+00  0.00000000e+00\n",
      "  0.00000000e+00  0.00000000e+00  0.00000000e+00  0.00000000e+00\n",
      "  0.00000000e+00  0.00000000e+00  0.00000000e+00  0.00000000e+00\n",
      "  0.00000000e+00  0.00000000e+00  0.00000000e+00  0.00000000e+00\n",
      "  0.00000000e+00  0.00000000e+00  0.00000000e+00  0.00000000e+00\n",
      "  0.00000000e+00  0.00000000e+00  0.00000000e+00  0.00000000e+00\n",
      "  0.00000000e+00  0.00000000e+00  0.00000000e+00  0.00000000e+00\n",
      "  0.00000000e+00  0.00000000e+00  0.00000000e+00  0.00000000e+00\n",
      "  0.00000000e+00  0.00000000e+00  0.00000000e+00  0.00000000e+00\n",
      "  0.00000000e+00  0.00000000e+00  0.00000000e+00  0.00000000e+00\n",
      "  0.00000000e+00  0.00000000e+00  0.00000000e+00  0.00000000e+00\n",
      "  0.00000000e+00  0.00000000e+00  0.00000000e+00  0.00000000e+00\n",
      "  0.00000000e+00  0.00000000e+00  0.00000000e+00  0.00000000e+00\n",
      "  0.00000000e+00  0.00000000e+00  0.00000000e+00  0.00000000e+00\n",
      "  0.00000000e+00  0.00000000e+00  0.00000000e+00  0.00000000e+00\n",
      "  0.00000000e+00  0.00000000e+00  0.00000000e+00  0.00000000e+00\n",
      "  0.00000000e+00  0.00000000e+00  0.00000000e+00]\n",
      "g_max [1.73776495e+00 7.02071369e-01 3.78097098e+01 4.36831464e+00\n",
      " 1.42968744e+02 9.13390102e+01 2.49368445e+04 8.94035041e-01\n",
      " 6.83088958e-01 0.00000000e+00 7.19364166e-01 0.00000000e+00\n",
      " 0.00000000e+00 0.00000000e+00 0.00000000e+00 0.00000000e+00\n",
      " 0.00000000e+00 0.00000000e+00 0.00000000e+00 0.00000000e+00\n",
      " 0.00000000e+00 0.00000000e+00 0.00000000e+00 0.00000000e+00\n",
      " 0.00000000e+00 0.00000000e+00 0.00000000e+00 0.00000000e+00\n",
      " 0.00000000e+00 0.00000000e+00 0.00000000e+00 0.00000000e+00\n",
      " 0.00000000e+00 0.00000000e+00 0.00000000e+00 0.00000000e+00\n",
      " 0.00000000e+00 6.07956052e-01 0.00000000e+00 0.00000000e+00\n",
      " 0.00000000e+00 0.00000000e+00 0.00000000e+00 6.45335793e-01\n",
      " 0.00000000e+00 0.00000000e+00 0.00000000e+00 0.00000000e+00\n",
      " 0.00000000e+00 0.00000000e+00 0.00000000e+00 0.00000000e+00\n",
      " 0.00000000e+00 0.00000000e+00 0.00000000e+00 0.00000000e+00\n",
      " 0.00000000e+00 0.00000000e+00 0.00000000e+00 0.00000000e+00\n",
      " 0.00000000e+00 0.00000000e+00 0.00000000e+00 0.00000000e+00\n",
      " 0.00000000e+00 0.00000000e+00 0.00000000e+00 0.00000000e+00\n",
      " 0.00000000e+00 0.00000000e+00 0.00000000e+00 0.00000000e+00\n",
      " 0.00000000e+00 0.00000000e+00 0.00000000e+00 0.00000000e+00\n",
      " 0.00000000e+00 0.00000000e+00 0.00000000e+00 0.00000000e+00\n",
      " 0.00000000e+00 0.00000000e+00 0.00000000e+00 0.00000000e+00\n",
      " 0.00000000e+00 0.00000000e+00 0.00000000e+00]\n"
     ]
    }
   ],
   "source": [
    "#Applying normalization\n",
    "#np.min(matrix,axis) axis=0 implies apply minimum downwards i.e all rows in a column\n",
    "g_min=np.min(train_feature_matrix,0)\n",
    "g_max=np.max(train_feature_matrix,0)\n",
    "print(\"g_min\",g_min)\n",
    "print(\"g_max\",g_max)\n",
    "for i in range(0,87):\n",
    "    #normalization applied to all features where it is valid\n",
    "    if g_min[i]!=g_max[i]:\n",
    "        train_feature_matrix[:,i]=(train_feature_matrix[:,i]-g_min[i])/(g_max[i]-g_min[i])"
   ]
  },
  {
   "cell_type": "code",
   "execution_count": 87,
   "id": "2be9c1b3",
   "metadata": {},
   "outputs": [],
   "source": [
    "#storing contents of train_vector\n",
    "write_file('ped_list_normalized_farn.pickle',train_feature_matrix)"
   ]
  },
  {
   "cell_type": "code",
   "execution_count": 48,
   "id": "9171b9ee",
   "metadata": {},
   "outputs": [
    {
     "data": {
      "text/plain": [
       "'print(\"Shangai dataset\")\\n#Using the SHANGAI TECH DATASET training videos\\ncurr_direc=os.path.join(direc,\\'ShangaiTech_training\\',\\'videos\\')\\nfor filename in os.listdir(curr_direc):\\n    if filename.endswith(\".avi\"):\\n        vid_process(os.path.join(curr_direc,filename),train_vector)\\n'"
      ]
     },
     "execution_count": 48,
     "metadata": {},
     "output_type": "execute_result"
    }
   ],
   "source": [
    "\"\"\"print(\"Shangai dataset\")\n",
    "#Using the SHANGAI TECH DATASET training videos\n",
    "curr_direc=os.path.join(direc,'ShangaiTech_training','videos')\n",
    "for filename in os.listdir(curr_direc):\n",
    "    if filename.endswith(\".avi\"):\n",
    "        vid_process(os.path.join(curr_direc,filename),train_vector)\n",
    "\"\"\""
   ]
  },
  {
   "cell_type": "code",
   "execution_count": 88,
   "id": "5b315f64",
   "metadata": {},
   "outputs": [
    {
     "name": "stdout",
     "output_type": "stream",
     "text": [
      "[[0.45001973 0.06116519 0.07912493 ... 0.         0.         0.        ]\n",
      " [0.47358065 0.10190713 0.23714434 ... 0.         0.         0.        ]\n",
      " [0.25398416 0.01733853 0.12979879 ... 0.         0.         0.        ]\n",
      " ...\n",
      " [0.3219725  0.26192131 0.09048627 ... 0.         0.         0.        ]\n",
      " [0.4608013  0.04890629 0.09263801 ... 0.         0.         0.        ]\n",
      " [0.38449323 0.0358575  0.03527002 ... 0.         0.         0.        ]]\n"
     ]
    }
   ],
   "source": [
    "#opening the contents of the pickle file in reading mode\n",
    "pickle_in=open(\"ped_list_normalized_farn.pickle\",\"rb\")\n",
    "#loading the stored np array\n",
    "train_feature_matrix=pickle.load(pickle_in)\n",
    "np.random.shuffle(train_feature_matrix)\n",
    "print(train_feature_matrix[0:100])"
   ]
  },
  {
   "cell_type": "code",
   "execution_count": 89,
   "id": "c78ab99e",
   "metadata": {},
   "outputs": [
    {
     "name": "stdout",
     "output_type": "stream",
     "text": [
      "[0.5072769243221751, 0.6160909308873419, 0.4648498611760504, 0.5012320527793797, 0.4256241929669435, 0.5060101756569536, 0.5432486684626208, 0.3603806960970911, 0.47304530051870525, 0.5517836508998993, 0.4766168424801962, 0.39547933422122117, 0.39603278854631363, 0.39831122553961956, 0.4187736182537852, 0.3756731371469595, 0.5211220440995499, 0.4995580463815272, 0.5496202584630405, 0.5805881560381246, 0.4370699305105137, 0.45824346665248267, 0.3929622129555597, 0.36099590347231403, 0.46908522758267246, 0.4156954980897368, 0.5120428017776768, 0.5877075492867582, 0.4537690930074757, 0.6129997588127035, 0.39906020972956147, 0.53545174284324, 0.3804597838774254, 0.451882601504234, 0.4433045819896579, 0.506308900407782, 0.5990510788787831, 0.41287826083016876, 0.436877405141631, 0.3933615551915196, 0.4708156478900172, 0.41960366944734917, 0.4676451334850872, 0.40893177242592876, 0.503950941107562, 0.5579844560052292, 0.5196281861816612, 0.40722792331791535, 0.4731756475321511, 0.4308382475865685, 0.40554164181364094, 0.3733302176968946, 0.44872279079512367, 0.48840178061458983, 0.4672927038148285, 0.39005005136084636, 0.45926454935651934, 0.6305290352323566, 0.4534584790647934, 0.5841148357149448, 0.5325721043417213, 0.3827007730114042, 0.35356837589357504, 0.42696023443159614, 0.5715322683901981, 0.37475061402684606, 0.44297265610380315, 0.3709549791917623, 0.5471096664499587, 0.46182183302900465, 0.3442721419467219, 0.3902908451873325, 0.3868708563218505, 0.3953735944342639, 0.4562938446986216, 0.41714744605219556, 0.46730924683920405, 0.3871458626801246, 0.42469083608007796, 0.39731719393862636, 0.38133373206013127, 0.42133188123887233, 0.3958030179304687, 0.3908131121957839, 0.5015686466942759, 0.42046477927800996, 0.4264924420977872, 0.4111954754710756, 0.605899479167405, 0.4524632688455984, 0.6664057922191763, 0.5557342665990399, 0.38966313501909233, 0.45285866777276107, 0.5508275101463953, 0.5213006074627018, 0.5509637125217864, 0.4225993100390153, 0.5200762956785969, 0.5216924075630638, 0.41021278633836084, 0.6012241849802548, 0.4459301355411296, 0.6626996606735023, 0.41590454733558924, 0.41386848762134926, 0.38929329609409474, 0.5552655487707454, 0.44132665742116917, 0.5709958439256135, 0.531587148109924, 0.3671988602943314, 0.5355945479045772, 0.5415081844139986, 0.5095130074556434, 0.4191790701426796, 0.5661548697449094, 0.3733989748472985, 0.4535373661710048, 0.538753398681342, 0.6166959386912902, 0.3935145352962325, 0.48362391951653183, 0.4710251292094316, 0.4514496348511785, 0.4189387150275968, 0.615442310202947, 0.4796033478202463, 0.4539310915992589, 0.39967281535256793, 0.4956712522165626, 0.359288235682269, 0.3672704354192497, 0.449639093614249, 0.39338435018452944, 0.45402020466206966, 0.3631070704753534, 0.46071176727032814, 0.41691523525961705, 0.46792841979400424, 0.4188775965417023, 0.7038182799003836, 0.5514201730810032, 0.34811758228789613, 0.4280221848372916, 0.38458537035590973, 0.3805743952778865, 0.3722116774144195, 0.4381757849998765, 0.5071148714635878, 0.4575276023916949, 0.44688710685289035, 0.38966895925648737, 0.5030725626021614, 0.5533321818294732, 0.4977376064333508, 0.3517074687853705, 0.4736021481318227, 0.3699006709152518, 0.6479436968789709, 0.43028089565293015, 0.4828362368147194, 0.5472467369737904, 0.35804226904082537, 0.5758680909320637, 0.44767240328943564, 0.36388661063488176, 0.45097663868670956, 0.3954573140904952, 0.3989439830753071, 0.3850760538857501, 0.5368176124353462, 0.47652471959930853, 0.41474396009465986, 0.45793904184527845, 0.3536840895853651, 0.44645055777982157, 0.5391457281024375, 0.4111012188106513, 0.4378125830772916, 0.4603264788841135, 0.36963367732212815, 0.6029285088963873, 0.3879643058846193, 0.4814064256129377, 0.44556560660132466, 0.37748118663759506, 0.550262526066734, 0.4567376863523478, 0.4317278089307798, 0.5158363454335028, 0.45107725749890354, 0.5923128916643239, 0.4183071582070917, 0.40449666322064887, 0.6959997907490539, 0.5534931884470442, 0.4949210533896819, 0.4006032991327304, 0.52900142584287, 0.5658401895746359, 0.46633733861182447, 0.5843441256409194, 0.6361832845414905, 0.36013862945718017, 0.4767243760168842, 0.3736342980435669, 0.4191599532211295, 0.5314550566809394, 0.36055979359605295, 0.4546200653665144, 0.42494754325328793, 0.3704736530031691, 0.42436466220297203, 0.37943674562777024, 0.36101404444137825, 0.34067845613699277, 0.5656641988195104, 0.44492127234874257, 0.5341829607926539, 0.47114862030719157, 0.4029908870845872, 0.4175631677648949, 0.4043313267930529, 0.7567736825563188, 0.42344683843016345, 0.6681469974384441, 0.471812731504182, 0.5063252823196938, 0.4700565778121925, 0.4347271150301869, 0.42785450593609886, 0.5104203037839679, 0.4845274913123978, 0.4455596475002026, 0.4286317717664831, 0.4270450128480915, 0.42009771593623996, 0.4296551464688421, 0.5179051799167445, 0.5201366757302437, 0.3636447102600456, 0.44473474446018696, 0.5744902784539069, 0.8200561103442571, 0.5907324884479379, 0.37169577638237977, 0.46259073475751844, 0.43766689560210653, 0.4998268202724766, 0.4288563588700002, 1.0929627813933085, 0.5416840351408139, 0.5191354543147519, 0.4888966180262579, 0.5471204308737907, 0.5116579852367844, 0.4460726262948504, 0.5070642168345215, 0.5565181458412527, 0.450660735071213, 0.5062708084212396, 0.5315287046994239, 0.39443422829459457, 0.5093406262172132, 0.39385613208004966, 0.6073464854862187, 0.41441366965244014, 0.36397296208386465, 0.49383096319423336, 0.43907632931757545, 0.36949836194773394, 0.460438049951691, 0.41025671010760834, 0.37888394636965295, 0.4717149497544031, 0.47174938430097446, 0.3807729327549021, 0.5896833452667644, 0.3545945254304788, 0.659734637566413, 0.4077325542994908, 0.5318287430842801, 0.42132884507674684, 0.4300277990040873, 0.5842358333818045, 0.6090910338714718, 0.5757347624436167, 0.4638430332767175, 0.472779882389052, 0.4319526329106699, 0.4284626498452928, 0.45367862837783823, 0.4302308966286924, 0.5937621447791899, 0.41875616970684754, 0.40336205601403136, 0.4276965737970058, 0.3951049486433241, 0.4511844668698619, 0.472446865445158, 0.3375334068822825, 0.5061301255473588, 0.5152317499008181, 0.38215541177856527, 0.545878305814884, 0.552887789465568, 0.7235745064359462, 0.5555758394408747, 0.4271382626326332, 0.3779315678034475, 0.49797295168953515, 0.593062678928202, 0.6372879511550111, 0.6075473752926198, 0.5261135694111745, 0.5338105853623563, 0.3528423341118806, 0.4286889407420973, 0.38707222041651834, 0.4408529872032158, 0.5235880892946625, 0.5636766651419188, 0.4940889283094191, 0.38625822170274965, 0.4105529600400935, 0.3831440253556979, 0.41393950528888623, 0.41575936227975935, 0.4902287118708677, 0.3570062342532646, 0.44833310101935747, 0.5160016397966267, 0.3610992576820048, 0.6348241504092216, 0.3996332166341721, 0.5290359778040209, 0.4101770953126387, 0.4032541081319133, 0.4786177989993391, 0.3692397159490513, 0.5173147414027117, 0.4541462249369269, 0.6745674205464635, 0.5158990285091514, 0.36786585129270344, 0.5155651946708608, 0.5306790224987835, 0.4842232349072835, 0.5381124088755314, 0.49922829183429834, 0.5179844900257636, 0.520283126674882, 0.5360252950498487, 0.4457639261284272, 0.4531542962627566, 0.4427733651948464, 0.35176627125636895, 0.44458922080204405, 0.6817081443311361, 0.5191262848106277, 0.9351813055020743, 0.5546985350705128, 0.35739007129681044, 0.4382694207002955, 0.5870255495173217, 0.6442498637670864, 0.5289336969804218, 0.4562749704653517, 0.6253746868183725, 0.5342241649701378, 0.5538202185028771, 0.49111429006790874, 0.4587732955425278, 0.39683672717674906, 0.3967379221283849, 0.41339659303520726, 0.3648333141579041, 0.43522461516692035, 0.5409810861309806, 0.36513180981329235, 0.3905358895268674, 0.4020524247476285, 0.49452947037868045, 0.465968087400523, 0.5139431898255052, 0.521147934608376, 0.3792459291538847, 0.4107461202574636, 0.46995133233190717, 0.5772887449016465, 0.5306141361169994, 0.3820955501199234, 0.4593552856533455, 0.48505167536634974, 0.35503808948040316, 0.46621317863856204, 0.45151348771144556, 0.4410644641358313, 0.4552614638817869, 0.5184800997621672, 0.6610202024929855, 0.419212540916938, 0.3673967552596952, 0.49769896794261054, 0.49744956786883543, 0.4603207769002056, 0.5200818164675902, 0.5896921729261975, 0.587878553892291, 0.4152679035507905, 0.5732828373669023, 0.3584524858824772, 0.36977622425984913, 0.4065096847412458, 0.46335514527379373, 0.3534213424335026, 0.41701189781347825, 0.4282632964373211, 0.4271886716617505, 0.48841441680961556, 0.4133931043159251, 0.5939669098827631, 0.6226229832662591, 0.4692682879523355, 0.4165961833860308, 0.38709762502063616, 0.47178599259080833, 0.3945078196568791, 0.4049495247564067, 0.42849631836771673, 0.5462759901455099, 0.4141402818581706, 0.574232986573787, 0.4260946074186586, 0.4002281393741146, 0.43719095436406336, 0.5068420659489424, 0.39673052305266865, 0.49505545607981966, 0.37699961248513103, 0.4903111617697175, 0.4183586592498358, 0.48722521001291197, 0.4010571295241898, 0.37550091697907484, 0.4721662279402977, 0.45985591310000046, 0.3573948905987561, 0.4612981996478342, 0.3718518168684977, 0.45981636351225885, 0.5002337340642448, 0.4018196689442089, 0.408112213243873, 0.5464020732184405, 0.4824446993792632, 0.38911253208262536, 0.8405571923822194, 0.5344132651587984, 0.3706633027355592, 0.7290726607574922, 0.3807950324917607, 0.44847832238843194, 0.42753475124441404, 0.48747395890247924, 0.3436391122464518, 0.5136139652148219, 0.4324227032452213, 0.469165504456051, 0.48881266888776115, 0.4020940607318087, 0.5880259429566863, 0.6026223630726741, 0.439938039470314, 0.5469893376154753, 0.5121533965491903, 0.3955090781110857, 0.3453847658102445, 0.4195934535328007, 0.557748224815536, 0.37910621741700706, 0.3622952876057611, 0.37380679756105717, 0.3885869246461614, 0.4211673281321115, 0.5414799184117104, 0.515936539842281, 0.412535832730527, 0.5467254222803326, 0.39081731893169586, 0.38724292913772407, 0.3934821397391274, 0.5239273698272112, 0.38513248845264914, 0.3904151193421216, 0.6189799855642139, 0.48914472775375206, 0.4600872662927597, 0.3856739084045361, 0.4213136229135702, 0.5084340676557397, 0.4595071585868033, 0.4024741462984703, 0.5248268885646976, 0.49391594408424166, 0.49503210601817493, 0.3755794653270438, 0.3791077914248925, 0.410205303934475, 0.4576366551912736, 0.418775472281132, 0.3806486070736766, 0.4625492135333915, 0.4982600651961924, 0.5496254359161588, 0.5299882571944952, 0.39512410333065034, 0.5817891435426461, 0.43808952723888106, 0.3777257280976089, 0.40903364476319426, 0.5067604060264121, 0.3828541180386756, 0.36870403858796436, 0.4722264590718915, 0.5746806842827497, 0.400392870577542, 0.3748981788165465, 0.3989284533482952, 0.40526222711047977, 0.49260929750934324, 0.5282913819657855, 0.4473392909650743, 0.4912587416325234, 0.5196042730694879, 0.48795826618150206, 0.4157154835669014, 0.49379924954773813, 0.34878599395124044, 0.5813045329922437, 0.43765906774955843, 0.3460914759104511, 0.5817898354269444, 0.6089525016827306, 0.5256373155179558, 0.45518433297986033, 0.47164792841073827, 0.4309074427338967, 0.44337929236041934, 0.38036194980248406, 0.44833605363065115, 0.5091153493772561, 0.3941091784307706, 0.3413085281511624, 0.4080456973268583, 0.4539975267070358, 0.42949356459979765, 0.41203213775090636, 0.3859530640326046, 0.4238463963198412, 0.42702520842249225, 0.39623223905401705, 0.40967212166010925, 0.35460669471852424, 0.4643361126639805, 0.4272473667086693, 0.5126210423767338, 0.48118151855772895, 0.4628385056688641, 0.5585915260350159, 0.4094061091271305, 0.3838062996151006, 0.39107208454466846, 0.3598486659860458, 0.4782858233186925, 0.3705610996347601, 0.4704699169284033, 0.4064627501181544, 0.41474604541204024, 0.4050470250365331, 0.4920663309745367, 0.4959387496865578, 0.418299933292572, 0.4629483634463192, 0.4460210546493741, 0.5200115687996606, 0.47791699322308057, 0.4342717346870115, 0.47156935907020425, 0.4720983612064361, 0.36364466433877196, 0.3811468747911831, 0.4868790780353597, 0.48282506513037704, 0.5258119606941459, 0.4417676643877043, 0.4063821503303222, 0.5236954252549973, 0.5260859467975372, 0.40648237828068845, 0.4916328282116885, 0.4314761703991062, 0.5046775713679079, 0.43688225757048754, 0.4458698116512091, 0.6126981257019486, 0.5298306873862295, 0.5340625587336887, 0.3933764718806758, 0.43058646417616214, 0.4452094630738732, 0.40253906100926684, 0.39297105178165326, 0.42991292232459155, 0.3874667803521749, 0.48674497016063506, 0.4844840223812918, 0.5369890672006912, 0.42932281768846564, 0.5052397975045755, 0.4286588136560597, 0.5347191893544063, 0.4046791977096283, 0.5293240050078957, 0.5165576560311359, 0.40075217214057474, 0.49156255952983086, 0.41065133162144357, 0.44933888114838094, 0.4917177893544281, 0.3609129878868175, 0.3416136008178523, 0.476427564031645, 0.38138756882298896, 0.4032521808298727, 0.38845331786384296, 0.5159213567064855, 0.46096656544609954, 0.5763139667790778, 0.4995283695020091, 0.5784200424241249, 0.3830360542478676, 0.7874820013991799, 0.5174577670978088, 0.4454741337882811, 0.5286245448204007, 0.4078860393529914, 0.4789204827877514, 0.5000524171386094, 0.49828736780756966, 0.5258431283175836, 0.4231772166735369, 0.4616096733531608, 0.38672174410721716, 0.40591445813579846, 0.4540482835751617, 0.41196855492964096, 0.5191537696783552, 0.456691570686054, 0.40615938243786864, 0.4570312591220488, 0.5014771627439835, 0.46187094572887644, 0.505530488786605, 0.498172459300463, 0.45181956925503586, 0.3796507892956189, 0.4107569994159646, 0.5367510980755148, 0.3701493512678008, 0.39155255835616404, 0.4995492042339905, 0.5280635828314885, 0.4943796435551276, 0.5051571743353754, 0.35653523872383763, 0.572401667040684, 0.6514456457290405, 0.42517290341014286, 0.48117645537435755, 0.5291408054078098, 0.44261842806248924, 0.5583949809984975, 0.38137619062656924, 0.4731235048555993, 0.44617415285090567, 0.4106878238088547, 0.4313556876544026, 0.414481519332345, 0.4718561300750225, 0.5614465178463746, 0.4467426888407636, 0.3535021761258209, 0.3421078538709678, 0.5679319045544473, 0.5519400570898908, 0.47890053418083056, 0.5575676173546884, 0.6248932938160902, 0.4361802252017616, 0.43262403682034745, 0.4483446209145052, 0.5101521161506306, 0.4153726049427383, 0.492659804313855, 0.42448302036657654, 0.5479610251653719, 0.43104029728086724, 0.38782690996833546, 0.5095857738899303, 0.3972324346069883, 0.4377009734001537, 0.4594280852468959, 0.44751185208184907, 0.6525264433387086, 0.3787158388790363, 0.3909888224377058, 0.3672200384885153, 0.7721316598950017, 0.45772341495871915, 0.6191319177470154, 0.5479292230305355, 0.5586691290258768, 0.5764084444631001, 0.34979990572048136, 0.5353277404756231, 0.4199136105529277, 0.4006222290156744, 0.4881556542839946, 0.41070812934470274, 0.41097930335869287, 0.44079601289110926, 0.3865573323197354, 0.5857268755510653, 0.38893572066703497, 0.430757294390926, 0.3924354060537204, 0.5587502052468072, 0.6648419719686929, 0.37975352456046296, 0.44500956473721054, 0.4252005741410046, 0.4975041463082378, 0.3806814699115162, 0.5030905177396857, 0.5864856834676786, 0.4888326334557315, 0.37703147792975583, 0.513879311455976, 0.4099269303255893, 0.3619188019987208, 0.42975041678810805, 0.5806427090104473, 0.4428593496504871, 0.42339792079039584, 0.4875769527912827, 0.4287585236580874, 0.5255206664346113, 0.47521997381150805, 0.4910367975436697, 0.3473699775366497, 0.5193166270790738, 0.4356840883609282, 0.6227396506940288, 0.38465232700347163, 0.5658725819146427, 0.8298565451212816, 0.3583213584396031, 0.5201860029841776, 0.39570908681985706, 0.41005215897361247, 0.3948308099199896, 0.516865055419152, 0.4230832170597732, 0.5121865715862662, 0.4616560000585045, 0.3888620583714151, 0.3753742301378958, 0.37920927018691664, 0.4129363932759634, 0.4792747188754375, 0.38906972700358466, 0.48140857024014333, 0.4318598106043499, 0.4165445877874637, 0.4395467922197698, 0.5826050053720772, 0.7136335656591941, 0.3633830316757758, 0.36800539341189054, 0.47317674882054933, 0.3975778732308216, 0.37582093247106735, 0.39344499420329504, 0.48447903691925676, 0.5180492763254553, 0.3456667800142116, 0.6231006816734781, 0.5541436246396014, 0.5666676629759719, 0.39974633274687166, 0.4968602664632863, 0.361051195445247, 0.7417147196499416, 0.3467500376193716, 0.4738335940745326, 0.6151512097363157, 0.5071619449686627, 0.47187407938925785, 0.5235879860824736, 0.6044416886021129, 0.580770403512254, 0.6276829105422908, 0.3956029640113262, 0.4306437498070624, 0.41975497734246814, 0.39378187296078043, 0.3895641526222363, 0.42753984866378814, 0.48094714829572827, 0.4325538884452159, 0.4270754918040415, 0.6195365235439143, 0.46576627065205256, 0.3845581495303127, 0.4520195417799934, 0.5263761590923972, 0.5225020273316093, 0.4395582362694624, 0.5747873661430651, 0.5074701146363403, 0.559740829221021, 0.5012229504876078, 0.3795836781381588, 0.41876512915300335, 0.41567738381314145, 0.6654108606067983, 0.46383368790227575, 0.4624463608123877, 0.37619282077171434, 0.6165823361874603, 0.5078933076647613, 0.3832155003160106, 0.5900219608531895, 0.425607362737494, 0.4256821729178714, 0.41238255352525144, 0.835222801426141, 0.4103388599314256, 0.40233717051701784, 0.5908304382062428, 0.5966075518718651, 0.4309114061118843, 0.5048105272714306, 0.45092691875590313, 0.5300468535629916, 0.41912911548767406, 0.4901160011869862, 0.5775636328776974, 0.5345875066723119, 0.555475162547064, 0.4170956753954126, 0.49539539873759936, 0.39843288713715674, 0.5091967698520768, 0.4612058248140635, 0.39032591787160603, 0.45014699000766933, 0.4875713516703284, 0.5614558389584758, 0.4434284393828575, 0.5650918120318341, 0.620691707811368, 0.36491671921263363, 0.41381831627850857, 0.4110078526271896, 0.3990348958355714, 0.5231265553925577, 0.40162537088512956, 0.5542838796115236, 0.38733682736925684, 0.5060916537912791, 0.4212958840167336, 0.5606324837684362, 0.553682259948738, 0.3664467291109174, 0.4186018373281078, 0.3947736239462505, 0.4102996582652422, 0.37227241825226776, 0.5050335584524015, 0.48345828749346936, 0.4850342467927445, 0.4800193726466909, 0.5476173820162378, 0.6297530495973336, 0.4248799099588615, 0.44665229558094915, 0.3624820493523824, 0.3930697741355195, 0.4920774956418942, 0.47481195389308184, 0.5499524471502972, 0.4528113026010848, 0.4168927161538643, 0.4003801317185297, 0.4076345930115603, 0.38797335876683875, 0.4488150588538228, 0.37894764936540465, 0.39706119495992026, 0.6002685507007709, 0.4197222870486163, 0.40514579117000526, 0.4475133311664825, 0.5369873496099723, 0.43927724455372025, 0.4209710146618845, 0.4916731267793845, 0.4114989535867055, 0.5338775842866067, 0.389240504799102, 0.4615621825243541, 0.3937893149890492, 0.3916380330331131, 0.4078292891053953, 0.462335849362938, 0.5191873398205334, 0.4842254011363938, 0.3882484095242448, 0.4074417902688838, 0.567081338911453, 0.36774906361777016, 0.39016270059852765, 0.3931603731685856, 0.4034955532257262, 0.40701797927996425, 0.34778193964441656, 0.4260736487977586, 0.6517936902517933, 0.49846447444329894, 0.4359202757860955, 0.554410134290941, 0.4573978762047166, 0.38183535467501634, 0.41140407099900783, 0.49182771224500355, 0.47192246219604284, 0.3865983561587554, 0.6415109370521538, 0.43963369138279373, 0.3828973275261768, 0.5613840087815203, 0.4584646456525812, 0.37997575454890614, 0.40900087198262797, 0.4619474951216659, 0.43212916570030213, 0.562259397717512, 0.48820873471921544, 0.5725086852183778, 0.45079453262387253, 0.5473488817774899, 0.45099820733487767, 0.4526399627666998, 0.4396096400461271, 0.40406138044367196, 0.4812497659952334, 0.5661302611385901, 0.49249587077825174, 0.3987199173243351, 0.48596654334325534, 0.4898132173560186, 0.4075938427901552, 0.606684750096518, 0.5363301809645145, 0.45649566642680517, 0.5082409272808363, 0.5132056160115626, 0.3469673022557388, 0.6234724863796559, 0.5292052570331702, 0.40829702679377433, 0.387910606512719, 0.45908613824051425, 0.46508516192810295, 0.6181115608545129, 0.6512158438418197, 0.375257938558755, 0.4089106381508536, 0.49798303239252206, 0.4468641294621379, 0.47243034075739443, 0.3684050694673414, 0.4725732051583666, 0.3354963011511749, 0.5354907842201932, 0.40688402448837174, 0.3799864969681283, 0.4567831298443711, 0.4041898122201191, 0.3843094014604217, 0.3493522404239672, 0.5318794358894327, 0.56062806669256, 0.38937829347216263, 0.4273679024216125, 0.42974325089239385, 0.44238491267273794, 0.363886046540295, 0.40854490314256786, 0.439301161308246, 0.570200638020957, 0.3697983550326989, 0.43744155587666533, 0.5448942724691774, 0.5115030437078195, 0.5292492832808948, 0.6052775464161305, 0.5142493504012219, 0.491463397637261, 0.4112226074418766, 0.5348380142572473, 0.643607392125743, 0.5424265440605615, 0.4524709037840151, 0.433275805081139, 0.4921313165380429, 0.38134810061464086, 0.44165680324694084, 0.3877467417182217, 0.46786649950714887, 0.36537051369178275, 0.8559858880249642, 0.43655015894713944, 0.36271089932757433, 0.6639620369955159, 0.8176780516793712, 0.47963055815290134, 0.4815132465495317, 0.39679361048862943, 0.38823113710468204, 0.5410101329565803, 0.3977797047699034, 0.5093261551449225, 0.38832519463451415, 0.5203388676288004, 0.4855010005366842, 0.4219265824102895, 0.7834995213062642, 0.4036252199509699, 0.3934426010370554, 0.4608924048566093, 0.5784007289233439, 0.4170951205078137, 0.5100669304862093, 0.6791579949711863, 0.5937467266967887, 0.6324831436521662, 0.3755290510571584, 0.4164650821127496, 0.4954266553634308, 0.41564597641947465, 0.44905992336003386, 0.4010599174001904, 0.4265117064218247, 0.4523631476205895, 0.5153160775040357, 0.6290782991294646, 0.5036326012527954, 0.5735530694513603, 0.46834622625184463, 0.5106255210401904, 0.490750122257783, 0.4305132020484841, 0.49411887248075637, 0.43919098536085005, 0.43305674389448423, 0.4706947294809377, 0.551301296078155, 0.40992101084836136, 0.5812256111633178, 0.4128672149423485, 0.4395328881507279, 0.3776532119911472, 0.5308177553915959, 0.622189884229569, 0.38173149316755917, 0.46983283530550335, 0.3935161595423838, 0.4071916966609638, 0.496190460650649, 0.46396075363099554, 0.40614011992232657, 0.3724533202832941, 0.4694216533221847, 0.39904481022388194, 0.5106623324390361, 0.5510258132264084, 0.34320206477602827, 0.39191807186657374, 0.4074166073785622, 0.5245334877488645, 0.40183707566354754, 0.46348378048060573, 0.43691424512159616, 0.5397962625536383, 0.47415114155519184, 0.39858059868663137, 0.4485389446390683, 0.4364363901163818, 0.5502397694399753, 0.39997406118226053, 0.5207258788991254, 0.46693732410897953, 0.3865394588797421, 0.5404018188828329, 0.4267753103225309, 0.39170559129399835, 0.3819533032486345, 0.5458645857107032, 0.43038873020843765, 0.3388111527791236, 0.46603995404476634, 0.38688573821994765, 0.38537653455713716, 0.4119671913693594, 0.5949071037937042, 0.5545101224435539, 0.5166014397223166, 0.5833794835199475, 0.3690077342910357, 0.3733017049019689, 0.4031358348573284, 0.3882731952852533, 0.3991407398470151, 0.4070877950225035, 0.3937590445965419, 0.470206086767815, 0.39459727545701295, 0.34902441985240784, 0.4977184876621655, 0.46986527515298854, 0.36188708836081845, 0.5466900890641846, 0.4137094179093158, 0.4693259227423955, 0.48294220263853677, 0.5380117974659152, 0.46006646660926787, 0.5577817810650856, 0.5591430130196874, 0.3691362329042952, 0.556104254779962, 0.4886410943473119, 0.5283528658822252, 0.5427301185050868, 0.34219694145449514, 0.3842788272705059, 0.41839903068243434, 0.4519703181809325, 0.6412380495859218, 0.5751168851828276, 0.5838349552373937, 0.6722638824058487, 0.419767527113308, 0.4961295254070962, 0.5423097255563396, 0.5702462372270659, 0.3819619756855912, 0.5937649670365512, 0.6749640319903283, 0.431433750310705, 0.41327902729547245, 0.4406646314235383, 0.4325247108835793, 0.39964683573702664, 0.3775416604442311, 0.4427127499823375, 0.45216247693918754, 0.3865321882093388, 0.41330740526631915, 0.41187201920313504, 0.36754241103135044, 0.3613812089610705, 0.5480024823576628, 0.4677283859300074, 0.5342563871362785, 0.405433847589291, 0.409465581374746, 0.4277482448472331, 0.45661561044980453, 0.4347563949109211, 0.5162677493607067, 0.5421761521905255, 0.43991637004855216, 0.510425251561269, 0.5804247852437168, 0.4019406522869521, 0.7227545472456227, 0.4048808212709121, 0.4464217300435013, 0.5349033808302991, 0.40129347460995507, 0.47117362701082754, 0.4188555146831187, 0.4364223834006726, 0.39551707144887127, 0.3867884139448507, 0.4639896371851283, 0.4970051382602373, 0.42619374433926466, 0.45942659746920195, 0.7672554556812745, 0.4593854107725658, 0.6960721437973956, 0.37113193755174445, 0.5022891055298672, 0.3911816708357539, 0.5519831862278298, 0.4436871189546173, 0.510734650592527, 0.42404986560855634, 0.3997503388935711, 0.4944956650735137, 0.3888658275031666, 0.3738066924019391, 0.4602988830443418, 0.461085227619306, 0.4284420661448256, 0.38516600524024003, 0.531105661561174, 0.35850054212177057, 0.40529842095465823, 0.49632874879964195, 0.4301874717335246, 0.4291073598516662, 0.40376131386878644, 0.4534367770515568, 0.5626053126455688, 0.559928322508405, 0.5435263383539624, 0.5179012104854357, 0.40217091806288463, 0.5031358025460266, 0.4186775615722678, 0.5129133859143339, 0.3777294631214142, 0.3986253109135936, 0.5806709851097744, 0.4906754691602745, 0.38518279512306824, 0.42505744890712965, 0.5289354342189646, 0.4124757590073472, 0.6077129121647873, 0.5078783470681343, 0.5188596076446624, 0.39841021925035097, 0.436323029344873, 0.5180335358619439, 0.5480915856166719, 0.46317007223562207, 0.5643574228637156, 0.6129737261522276, 0.6097485539105441, 0.6145392473653991, 0.42020492750959837, 0.5212448089098178, 0.4595745563586415, 0.5534157747329858, 0.442177588324246, 0.3831379002148774, 0.5390252397267646, 0.3361518987645409, 0.4189846640137397, 0.3656220817319148, 0.47998648652195913, 0.38178237985639984, 0.5277209406196166, 0.5497809856773608, 0.40722036418035384, 0.4264841065372039, 0.5082798018272375, 0.41533706455713093, 0.411031400730187, 0.46723245508514, 0.41355740062136626, 0.374082050450067, 0.3595965795985383, 0.5313869670840525, 0.426297038444478, 0.5780241568765769, 0.34613586653564543, 0.5355163489917074, 0.3647906678712589, 0.3843068479138775, 0.43667537955863533, 0.45649010103047416, 0.4431668065045377, 0.47150539137796477, 0.38544530167176155, 0.35660939736545727, 0.3880799937197573, 0.3685394910799621, 0.5077595884475258, 0.5313365022037565, 0.47464279866833037, 0.38024277861194705, 0.602506468554443, 0.35663151086238615, 0.6704625843012898, 0.3748623277584419, 0.39788600524510787, 0.3993833382696084, 0.4727647356762247, 0.5416473187094477, 0.4550380211737138, 0.4943485790509148, 0.6851752316994433, 0.46262130494837167, 0.533832788054489, 0.48005584351679076, 0.49950739795791044, 0.5389995920014303, 0.3663300689263704, 0.47193084505149285, 0.5613288416043336, 0.5147133830937833, 0.5383122701083605, 0.47224318985815605, 0.4055496620224889, 0.4045445423143489, 0.38529170144847436, 0.4368501510041957, 0.4366080201441248, 0.5135558148066913, 0.6336403685457204, 0.3982252506079925, 0.4987700535139368, 0.5522183811440433, 0.5305343551299948, 0.5893943160173312, 0.47863875109932896, 0.6142696606280457, 0.3922330745009104, 0.4957834108257984, 0.3985632007650335, 0.4717414068148125, 0.3921909881193852, 0.4203982888298904, 0.527347180857923, 1.3124043730423627, 0.4439644448160832, 0.3763481520257585, 0.3755568824025618, 0.3762906306421407, 0.35004273794380064, 0.37282427279859703, 0.4991528458739075, 0.4458273613689653, 0.510539839382393, 0.5839511028331301, 0.4375494941022072, 0.5542426461614453, 0.4601879528853624, 0.4839388943022569, 0.344646041508859, 0.4301149557730521, 0.4022762873620125, 0.3600822691057776, 0.5800570697932681, 0.3831756055430326, 0.47005346835026857, 0.5228353241901191, 0.5818949052196548, 0.45759389368533715, 0.42986029894252653, 0.38984056816256085, 0.4516629632672514, 0.480442835651551, 0.3931453769982275, 0.4291746632086171, 0.4192989330399491, 0.42893794192035745, 0.46026629306775735, 0.46736996349701254, 0.42378266660630476, 0.41020204595048837, 0.400076660251674, 0.48275116507771915, 0.3883405529706469, 0.4029635922952197, 0.609984498610957, 0.4459220248116614, 0.4262284983267047, 0.4605196487675647, 0.4368483978998272, 0.5632969865885896, 0.5120220011445357, 0.4210091470403536, 0.36669534645106683, 0.4497974074055853, 0.4516799834209778, 0.34914273705155396, 0.5955503502387093, 0.38905253511386617, 0.42548876740153974, 0.41741808967792926, 0.47759370576558935, 0.45692960270410543, 0.3514767919408211, 0.6849280965811004, 0.5201282660733892, 0.5706211710142911, 0.39852779928547355, 0.4980986877771413, 0.5115165935044553, 0.4834497569872259, 0.4760988843207891, 0.41803383893062496, 0.3886743968594793, 0.5389797669322174, 0.3416958684888051, 0.37329778193317337, 0.41562984890092736, 0.3992631050686168, 0.5187433645684459, 0.5413825725387007, 0.5506761724128234, 0.37741262251119284, 0.4420700990108936, 0.546059391134044, 0.5666393709763207, 0.4848582885809087, 0.626490744873442, 0.7687710698447835, 0.4796340777931002, 0.4328412434583431, 0.3978221849673266, 0.4021514105553683, 0.5103109471886427, 0.5936937441118633, 0.39044467431462176, 0.42817774766185634, 0.3586254821600154, 0.5021453123881975, 0.521928164980897, 0.5178546937743764, 0.3921008130204115, 0.5431913429700252, 0.4440434789780404, 0.6080110042894639, 0.48316048130915945, 0.4371949166843595, 0.4079584783093356, 0.4193953752529357, 0.5609431294268217, 0.5441286091692258, 0.5116682597945329, 0.4713032058868601, 0.41483721657826883, 0.4045514385940504, 0.4593244061214918, 0.47991924948361875, 0.47954063093173727, 0.39697848030892613, 0.4062687016560272, 0.4991908247528126, 0.3904291757891472, 0.38093610074691364, 0.5038242738925972, 0.5714856930315075, 0.4786686951741048, 0.5793352167506419, 0.49420418526027776, 0.38582352890569893, 0.5746425353300229, 0.42772271902017633, 0.434966146653838, 0.41264757613283437, 0.39234712122325177, 0.4900285189699467, 0.8461572921544265, 0.3716206348581661, 0.40617916705116813, 0.41118848950009895, 0.39930421383109593, 0.4381944038079978, 0.37251874372710875, 0.39974842855112536, 0.4301654940229057, 0.5669624966763553, 0.4504363757964088, 0.4484020027032085, 0.40630421256392013, 0.5315742007100598, 0.36711495153847973, 0.395115210984066, 0.5197485111809877, 0.5844099458285436, 0.4482238337058642, 0.5493079328020725, 0.4852159882684468, 0.47805174028680514, 0.44473532714453123, 0.410718368853941, 0.48970205143167156, 0.48361531616935133, 0.8224190462457562, 0.48221826343415514, 0.35893386631449575, 0.5723718288781037, 0.40714141728424585, 0.3525427995460851, 0.3971554335138866, 0.4300023993265009, 0.5580144189730274, 0.4132330300296945, 0.47776148453397127, 0.4349021909077629, 0.5199115532646913, 0.43619584034144515, 0.4656485634323423, 0.3851584229520884, 0.45145782180076105, 0.42206946836612724, 0.5012888197255686, 0.537867460364797, 0.38816461310928163, 0.7365790753929373, 0.4677331923411277, 0.44010606836293426, 0.5706067707988981, 0.5288420858199121, 0.37943431690727514, 0.44670890984599226, 0.40513188776177034, 0.5180393216779263, 0.3531468076674895, 0.48984265649748193, 0.49833213962069944, 0.40067958666207587, 0.8658704244929718, 0.48204772537479645, 0.42497255344018114, 0.4147823570019219, 0.4659595916808648, 0.4649598910008176, 0.4509674691846673, 0.40290817456542377, 0.4047491171097347, 0.3814518795911014, 0.540863231375379, 0.548731477863784, 0.3657633662594137, 0.4911760727535569, 0.5696119003208062, 0.4147153656066783, 0.3952748365784893, 0.4979786257334708, 0.40416233945633556, 0.35399732441141313, 0.3515383020278655, 0.3584569439601502, 0.4353818232219446, 0.4386117721616471, 0.4356045145166945, 0.39299695118222405, 0.5330965625027071, 0.3565856735918827, 0.4174515623365977, 0.36447902018779554, 0.4102811401557192, 0.44274753341428735, 0.44109880877719665, 0.40026408458396273, 0.41035337734175625, 0.4280131538847815, 0.4694493913446479, 0.4612376827295407, 0.4017219327389136, 0.40387131507931906, 0.4277022441145986, 0.5776441160916418, 0.48064861378679186, 0.4647791864315332, 0.5283900620485896, 0.427200893710571, 0.5446183796610808, 0.5927942366123312, 0.7733516129068074, 0.4908482553432372, 0.5020907296307038, 0.3839517251878373, 0.39708679056071, 0.6011274678309568, 0.3732492187096117, 0.4064314939123281, 0.3713051015626818, 0.5575254660996875, 0.36210415677293095, 0.5443260696883933, 0.5293144847276082, 0.5563347266177574, 0.5310955449503794, 0.4251404860086968, 0.41329482186132543, 0.6019958591385131, 0.39933921761818336, 0.4362382105687038, 0.6399420945385473, 0.5029028824823716, 0.5748655218753566, 0.472883998448837, 0.44921112712359595, 0.3415503916020427, 0.46609378266793594, 0.45378499851381715, 0.407082628541137, 0.5581786009261098, 0.4502867740798764, 0.5774527713316793, 0.4052066190386131, 0.5734199043988554, 0.36650106146565886, 0.4093125236398447, 0.4446109232142207, 0.45132172165670087, 0.40059019614028435, 0.43099140927759116, 0.5691459993208914, 0.533117008302104, 0.4619224125978028, 0.6599012447794296, 0.5710861841899583, 0.36369522136484345, 0.4106597012843277, 0.49084315800397127, 0.3774662961328448, 0.4840881684333135, 0.3713072714547748, 0.4574655385513262, 0.3537738545428319, 0.3870866009480126, 0.4980125535698673, 0.5275501107225464, 0.48908134259315383, 0.5991893685103422, 0.4472355159067572, 0.4333084313897439, 0.5927174273367031, 0.4212371228062598, 0.4213895703015014, 0.4975433175601519, 0.6364432183282285, 0.5472847011974669, 0.48496995765360645, 0.3621046547400613, 0.4104525493300608, 0.34147523721134787, 0.4152498025354485, 0.5409442081052812, 0.4307190553413219, 0.39755051849467116, 0.5717816133576898, 0.8154068559332673, 0.5316073341614, 0.4071936423033232, 0.5002628924361295, 0.5181631151831898, 0.40318309388638934, 0.37827570532521515, 0.39564404898289374, 0.5260155441408356, 0.47708907587240346, 0.5394746621382501, 0.4165884212942636, 0.4986330697668677, 0.5468410316952602, 0.3964061684417346, 0.4736806632286904, 0.45112805988652466, 0.5708723649659173, 0.47261881388672206, 0.5712831854736264, 0.38095797039959406, 0.5836006520048808, 0.5082896639543775, 0.47422130958525466, 0.45952926515696246, 0.3999612324545234, 0.7005676327185851, 0.5532731599396528, 0.4173073314463346, 0.39214340085781707, 0.44574349004681846, 0.45043148602365923, 0.39937032951855256, 0.6632143652597654, 0.520070612710868, 0.3912295058860876, 0.5076936208957387, 0.4804592604162005, 0.40834330897944804, 0.5629624869193671, 0.7326021533153314, 0.3793571077071706, 0.4048635205937397, 0.38593603155966727, 0.42477754240723176, 0.44000625629424495, 0.5314636974009636, 0.5900102485471684, 0.4763947838836078, 0.33389533720544257, 0.49936460253001036, 0.5786044051294571, 0.42140984453736846, 0.4982655396615431, 0.39621344068564734, 0.40551852839600944, 0.5018203424352072, 0.37925965431116926, 0.47561088967968673, 0.5908128322278551, 0.4323624537498735, 0.5690690044629609, 0.5318298390492853, 0.45368440115061376, 0.4211734752766233, 0.5203757853745536, 0.55874931529771, 0.5993198440187374, 0.5405623717431083, 0.5457206064231354, 0.434721432350091, 0.49527385750168695, 0.5611691905310413, 0.5307532402689026, 0.362690340865017, 0.37543134670659095, 0.574092310536489, 0.48322193275073777, 0.5302885634232071, 0.387291331429244, 0.37430107354336384, 0.5045759056000386, 0.5088451257141529, 0.5546373905498813, 0.42715133854563964, 0.7400336398448439, 0.417245075829282, 0.43339762728110076, 0.3979530499489661, 0.45037115076043177, 0.5734955820194327, 0.4097112852777087, 0.4980975528112948, 0.5380814648366881, 0.4654651418273822, 0.48741626276302547, 0.44837474653717646, 0.4449626668468299, 0.5659214098653839, 0.4807441441049563, 0.4675408450322398, 0.38390118917692057, 0.49297502324892567, 0.4142994637988865, 0.3913509816533177, 0.5825989114191611, 0.5048563055582387, 0.39123709058081124, 0.4016506530502152, 0.37881106938358633, 0.4613101177180746, 0.5125306791906007, 0.8199282950871716, 0.3467677773987056, 0.6675716520407013, 0.3654454648444597, 0.4417198858014292, 0.33575584773622863, 0.3943140042957455, 0.44217619167507005, 0.45443823147283424, 0.4618732952236716, 0.4052880933232291, 0.42364898562588466, 0.4764666902943345, 0.3912727552616345, 0.4502361652373697, 0.5254102829775896, 0.5474585310168198, 0.4142877437699476, 0.4004459430254266, 0.47950336909804225, 0.4259431604950216, 0.586799200034722, 0.5687332720629498, 0.4285260636122172, 0.3978542340369392, 0.4789079161912581, 0.43407533272513277, 0.3727601946346174, 0.37216414503752604, 0.4134271089724568, 0.46884406487007213, 0.473801896195272, 0.42875723139141747, 0.4252439721076343, 0.4398173076802035, 0.34035276376983137, 0.35941107529730393, 0.45457709774517197, 0.4372683797730771, 0.4355140621312101, 0.431584478720041, 0.37219035928352057, 0.4955615045198435, 0.6803118199383305, 0.4778900281905618, 0.46316774321358595, 0.41582712290596496, 0.5596588756818603, 0.6100179849083172, 0.5693318741883429, 0.5210503653278625, 0.43928786172528084, 0.36740624249255555, 0.4117712398079593, 0.5527669983275251, 0.3892844538764427, 0.40178166928665204, 0.7013364411449601, 0.4005942688616734, 0.5545875258732389, 0.4954726931342015, 0.5823229012851548, 0.39931622574085907, 0.40670871638344136, 0.8295381897755345, 0.48266055132432184, 0.4810141159480083, 0.4419803972959387, 0.3646400949847576, 0.351932757238209, 0.4467761841051828, 0.39697391461505616, 0.4469657662615555, 0.443552370294105, 0.37833867721238523, 0.44473264363921217, 0.5108408419731368, 0.47668852524613053, 0.40901053361268935, 0.663649333891519, 0.9998279020410626, 0.3949549548956083, 0.423245832730784, 0.6097612746134685, 0.4336820232076139, 0.3756647642865111, 0.4904247575590791, 0.3903475882624984, 0.5406154938593154, 0.40356565365141356, 0.4224059395138527, 0.5276193600805277, 0.535257960279387, 0.41133730420299913, 0.4222301478949599, 0.4241988667556907, 0.36976153296054176, 0.8629806223502579, 0.47469129672583543, 0.5146560887953798, 0.4162973454172195, 0.4948771814028189, 0.5616423337030108, 1.0379006796077506, 0.35411496186985836, 0.40033729194721246, 0.5010181697613484, 0.5826112089366879, 0.5352537294279223, 0.5270941539214842, 0.3937639323117767, 0.41427800307715074, 0.4276720524647736, 0.35178637411123925, 0.39521486557651625, 0.5624735200971666, 0.7547023460228895, 0.45304466171599855, 0.5157783717688662, 0.6465125815937014, 0.35514546082169923, 0.5131983474776225, 0.3956212405247882, 0.4653505159791824, 0.38707143459060556, 0.4328102075379797, 0.4970072900714701, 0.3747698365449027, 0.4092669885885475, 0.3889147558444924, 0.4107729504718166, 0.4567602011847957, 0.4837150987066029, 0.42179753073508924, 0.3963310401950456, 0.4351926027594267, 0.5463472535558712, 0.3524927698742407, 0.488272748767967, 0.5415986534856021, 0.4436358976605329, 0.4099556725685073, 0.3799375525659866, 0.4455675137181686, 0.38511290738426346, 0.44846782023630827, 0.5632678670483489, 0.37465021123225933, 0.4200452129495531, 0.41725778944039477, 0.41410476673779406, 0.47765448050958625, 0.40403576313475176, 0.39682980159657955, 0.5212261768393887, 0.5456630897568118, 0.5466608921112229, 0.3803000376783135, 0.6586316942038948, 0.4461535624665355, 0.4309456838450959, 0.42401340954273037, 0.39730629462601, 0.4468260697840538, 0.5096625143261311, 0.5051305459009358, 0.582817380462584, 0.4715702481664965, 0.49011886113039455, 0.5553081650625351, 0.5430381239344834, 0.628370437010557, 0.3616418304917353, 0.3983121179254699, 0.4243764609530015, 0.41680262638026677, 0.43419721135930045, 0.3780031104978675, 0.43491484882160847, 0.5968021268003767, 0.5674349819342159, 0.41120944803526643, 0.4827032522495567, 0.37924864951726134, 0.6525250078254723, 0.4145182533859032, 0.3835650448760538, 0.6664699012676586, 0.46443603575747944, 0.6112138280756636, 0.4733833181101795, 0.36359730457786926, 0.44090088018364415, 0.5053655338490116, 0.37356837284132033, 0.595808371809435, 0.34981443203396856, 0.5076614640030497, 0.4802776046229867, 0.3862949041129159, 0.4400563852274356, 0.5319251340308402, 0.40459949010010654, 0.47627772183417694, 0.41056803190533914, 0.600448523276783, 0.34235447757102977, 0.5717311552919905, 0.4452660053202189, 0.4468017142628929, 0.42885017820824134, 0.4696815321043569, 0.35979773685162014, 0.522960729566267, 0.3637937233744549, 0.6399524493841959, 0.5205248341621475, 0.4321536725843377, 0.4306364581796337, 0.40434198419639705, 0.5591233406459176, 0.4949638826828246, 0.49369491519955144, 0.40068068793378886, 0.4408984926871903, 0.3519293651587461, 0.48812291381328554, 0.45728198648428525, 0.416884886907984, 0.6212566716561452, 0.5467542618638908, 0.4749955239460276, 0.6400124939929708, 0.3858428465986171, 0.3932195700367517, 0.49906407698403277, 0.5313224344538995, 0.43447709071002605, 0.5843412977206047, 0.4123460639375298, 0.4902790995074834, 0.4158006030205921, 0.5192747948372001, 0.5083714941388421, 0.3774911149631196, 0.3951753299437717, 0.4949138616356259, 0.5408843882075293, 0.40590016359443004, 0.414982924904477, 0.5931603833776407, 0.5695991019241009, 0.447120456831119, 0.37376230032842084, 0.35025608649692863, 0.4029328866607947, 0.49066897752857824, 0.5065503095944861, 0.5504220358708474, 0.4677134692816754, 0.5426969605274052, 0.4751884799656267, 0.3815072569602506, 0.45279634547581227, 0.39752973006509273, 0.4193106280106277, 0.48086122443614865, 0.43659815573028443, 0.4937362161233187, 0.43122202660352793, 0.37279597535777376, 0.5823791041147509, 0.43053373127133054, 0.37648619066723205, 0.3534989972951255, 0.42852855456815664, 0.42270345086409444, 0.42895621882640295, 0.4149878065941165, 0.8072121845838873, 0.5883705089732637, 0.45337890964349414, 0.45475083005429573, 0.397384901498186, 0.39407325811988014, 0.44638385858608254, 0.5185601256324939, 0.6025223476199231, 0.4676940458460487, 0.40730494281332935, 0.6106258980130332, 0.543334762611585, 0.5574161679024805, 0.42529551071643146, 0.4478955643459481, 0.4575930809814632, 0.4541880204162377, 0.36187035619689456, 0.5687626508795256, 0.4226450620157672, 0.4033424844433888, 0.5871187683076695, 0.3774065404216172, 0.4581727522806746, 1.2035972209603787, 0.37492282850458736, 0.614442843051405, 0.4967831790559874, 0.5796534419503301, 0.7545185539604607, 0.43698447843702165, 0.5110914224297444, 0.36027877867600144, 0.41817924095403125, 0.44432925268236156, 0.5432240711585173, 0.5597964894496618, 0.47716212907229527, 0.6169640937520354, 0.5761580585117428, 0.5045787614205705, 0.5718355262177972, 0.4692205146070319, 0.7345115046471168, 0.4351831382839147, 0.44620124606577843, 0.4525514844186601, 0.4297914630156165, 0.5593344585925571, 0.6186848934999107, 0.3818828507517724, 0.5259924848913621, 0.3746254541033486, 0.433157022543649, 0.5521590039411375, 0.45857450534321753, 0.34862754650716754, 0.3889402045199515, 0.3564209400060076, 0.3568596241670331, 0.3507400292985677, 0.6116207470356603, 0.5184939206604924, 0.5020730564478734, 0.4376533731200983, 0.4567199725848911, 0.45485142994396277, 0.45326953028193284, 0.5506513408688163, 0.46093130673198307, 0.4948765952696574, 0.7776725375077745, 0.40981071238131006, 0.5719660622773055, 0.5752428604835893, 0.3763785425151085, 0.527903576603317, 0.4998782811351691, 0.4956620459413405, 0.5460832039570039, 0.48643567902178864, 0.4244220720029709, 0.5697717883754949, 0.56210478970068, 0.47481773015168427, 0.5487780350175521, 0.48639668364993166, 0.42211495137129607, 0.34273202134151615, 0.5154527935865725, 0.41327433661788227, 0.3918139682623124, 0.38316959143248575, 0.36379010877376866, 0.39001535562614265, 0.5333634282938553, 0.5274744732150788, 0.539109378642884, 0.5065530504055957, 0.49118124404467445, 0.4074161237576933, 0.36693751883465214, 0.3616357494610036, 0.4984078993801374, 0.5687279197338326, 0.4835176390047488, 0.5148431156025365, 0.6758450251561585, 0.3635313549702429, 0.5716551865623147, 0.46065520903620405, 0.46787864274634827, 0.5775635543055787, 0.4477718298961936, 0.5664664137387924, 0.5248401132015236, 0.4360483720663832, 0.36763126020420295, 0.6433456676191218, 0.366256685076744, 0.38778164260826714, 0.4839358881585355, 0.363647583591222, 0.5991192768547661, 0.40818427582749794, 0.47744275233868005, 0.46057063504543416, 0.4056400145095063, 0.3792013163166733, 0.47572009764580575, 0.5559289079096427, 0.8536690497341393, 0.36750165547928226, 0.41109377358157523, 0.4646686098423964, 0.5511028362941688, 0.6245441070726687, 0.4770157130867795, 0.6046037924047607, 0.5296710417773406, 0.44428855943973816, 0.5578426007245978, 0.48859655035766536, 0.47031825106541875, 0.35157488972925705, 0.4061969789497285, 0.5633691003448298, 0.6165801481280713, 0.35085417689763915, 0.4569546972210327, 0.49800626550782623, 0.49710525998472904, 0.35734155287029257, 0.5267818724112019, 0.5627731601703582, 0.5689140113825051, 0.4910279697932419, 0.38117228694005134, 0.5860855050533353, 0.5324102313315048, 0.41511566514556597, 0.5246394088547003, 0.576478393701962, 0.41197947033795546, 0.4175538854848293, 0.4139927250685661, 0.3891980575557105, 0.5242492408175621, 0.48149634128424224, 0.42353033149678393, 0.42129626651346286, 0.5539797226393112, 0.45751280898064745, 0.4116573566072327, 0.4526980836086172, 0.5251894072863291, 0.3995880939245831, 0.48335794070543453, 0.44265365541160423, 0.5220017708381477, 0.6154674017282815, 0.4320359694128967, 0.36785677891536733, 0.4633477317580807, 0.6082934942974679, 0.39066444253649213, 0.41260797038211433, 0.44128569490787817, 0.5290778439651825, 0.39193872072947167, 0.5385281614592292, 0.37070358314689567, 0.4607494788828643, 0.3988373276983913, 0.5421780080018967, 0.4514088415125236, 0.40008990193917215, 0.49309567275984734, 0.47759001665044315, 0.4487570112739874, 0.5048325125480526, 0.6000267398430393, 0.3722771040541162, 0.5759152247595443, 0.5449424545421329, 0.4593520899489187, 0.42574819088937305, 0.35992339885684366, 0.33578805305600495, 0.5109352137325116, 0.43789882152966764, 0.4479095245104762, 0.4643224960558102, 0.45405988097141503, 0.3945420784773213, 0.3496285731469818, 0.6070761555591491, 0.4493769698921383, 0.41208132377699946, 0.5228467850194252, 0.4906424699648747, 0.40706914245683307, 0.5373110530083778, 0.4710672046522711, 0.38045622853559674, 0.3903996215907438, 0.37502637012901563, 0.34050735572087737, 0.48064257489636103, 0.5351093962270702, 0.49110844755101457, 0.37325372226059467, 0.5672365149012799, 0.4842582328604868, 0.4914475684528977, 0.39317376863736864, 0.578196338187328, 0.37294947015498614, 0.46602101511160343, 0.45257495444232987, 0.48949162751984227, 0.5869164004548005, 0.4282637141931514, 0.34414832051971966, 0.45194546594125223, 0.46080147206414085, 0.5351254664999108, 0.5757187080348399, 0.58208660833887, 0.3988925336164363, 0.4218213645424379, 0.4546906636087299, 0.4078571660725202, 0.4402500360632833, 0.3694938590607245, 0.5139189522382348, 0.40647127742555333, 0.3976031241662308, 0.5965994823286229, 0.48966988499684333, 0.36233035382628465, 0.4382605112499097, 0.5451465961843094, 0.579692099648679, 0.5748545922129908, 0.41475722974223317, 0.6327712134644115, 0.4687485153237937, 0.5196794343461336, 0.3669802901547423, 0.5050764150349893, 0.4557677509610173, 0.5238998693821124, 0.4320230855438215, 0.42393969114369395, 0.466657403779132, 0.389209517693269, 0.4702222849609857, 0.44265977825543407, 0.39536227609297525, 0.4076461874683246, 0.5490958524139473, 0.5787848568599143, 1.2515524659217898, 0.545283998308461, 0.3902548315391237, 0.4490799639444498, 0.5332106145467581, 0.49397180763744003, 0.43453004500641423, 0.4976418265537907, 0.6290068566472231, 0.6291894948397422, 0.5280208874993331, 0.4050445519214197, 0.6196943875544731, 0.42944403685468097, 0.40684549947685433, 0.4010514979748579, 0.5446174277817734, 0.4615464552969583, 0.39505962775905823, 0.4175175396850156, 0.5336299581775199, 0.6056404556530864, 0.358490250822884, 0.4944410820015864, 0.4193316603267948, 0.5132481918632611, 0.3998951575426707, 0.3634031485665844, 0.5140406123386503, 0.4211043814223208, 0.6128218819561225, 0.39572480452723696, 0.5174273548951878, 0.342874037311698, 0.5871068477616525, 0.5730053935946066, 0.5023548949863061, 0.5391426747692882, 0.4632266263276324, 0.39806438315864523, 0.5160601294607585, 0.44055326763350217, 0.37085699448458664, 0.4426712199884144, 0.41789264586141844, 0.4613127927262021, 0.538441218683162, 0.40583684037884016, 0.7232688653726825, 0.4324181920173958, 0.48872983373705425, 0.4629715044704169, 0.4014745148562672, 0.4224839579644266, 0.35141461745860736, 0.5426848675936836, 0.45985569898156287, 0.41431957239010886, 0.37347317539463454, 0.3931016804017223, 0.39635887377877393, 0.4242052399526351, 0.404552981245372, 0.3774113621560996, 0.4045882957634177, 0.5498048348263096, 0.4934276011061122, 0.6081181462812775, 0.5886812425813883, 0.46175483781492466, 0.3782345461975726, 0.5679211505048467, 0.49416908567456874, 0.4888682487019816, 0.5099289204861829, 0.4431845044250857, 0.38853165404590423, 0.5418845830892322, 0.3964681444653002, 0.5433885659806731, 0.4219022432863063, 0.5184448142967973, 0.42353762140481627, 0.35140735529006834, 0.6071692652304881, 0.3857240301425244, 0.43223591315971943, 0.6201495306765502, 0.46906171889380327, 0.4982453457881525, 0.5084233902423523, 0.4988842620285541, 0.51624816157621, 0.5055818525678116, 0.3871513998044426, 0.5506350693044009, 0.3720625525235935, 0.40715576397933184, 0.5373444009661339, 0.40887413358425195, 0.4745910380453172, 0.5777622252574947, 0.5266872156819388, 0.5161218789674934, 0.44171701768137, 0.4173191354488267, 0.40500811288301114, 0.6170061270174723, 0.4606498735537795, 0.47114443382854176, 0.4699517401798106, 0.539299239063347, 0.3693337750680141, 0.4240795001240719, 0.41393112382751945, 0.40196324963566166, 0.40971152903698166, 0.47195949811208315, 0.5438362505526383, 0.3728795738768257, 0.4456227734560388, 0.36886157856505075, 0.5741341645114412, 0.43302063137949875, 0.47657698096235485, 0.5092511548436628, 0.453900435473017, 0.3730336703225691, 0.43804446702830796, 0.49243615497811266, 0.5417701749185941, 0.4150695654119289, 0.4421316221679457, 0.5084188288950404, 0.40800096706567857, 0.5367259652034927, 0.46294843128674623, 0.4480636975263964, 0.48677281916966997, 0.42060711056344147, 0.4369449576579134, 0.5682675243865193, 0.4053820037720759, 0.40323994435506527, 0.397999292818979, 0.5729818355574618, 0.37408725918355923, 0.5071742664294518, 0.4064120755597928, 0.46557110011100455, 0.6415667995010895, 0.452892304544264, 0.4124113482931781, 0.6002632816977479, 0.5297892063592854, 0.4092454717518873, 0.677218575824902, 0.570963253446744, 0.49444544327713846, 0.5393880435888369, 0.4873390191678332, 0.3807633124102389, 0.43637038843576387, 0.5003742605423274, 0.396163801269984, 0.4332234804762295, 0.5417363782049897, 0.5332726388771031, 0.4453715811332156, 0.41171167024552846, 0.5518584106778324, 0.36722684632673663, 0.41957447454466135, 0.4409910431131803, 0.3587395085811506, 0.3817023453257026, 0.5656910268847717, 0.4908493373850498, 0.5151730369658087, 0.422751477796659, 0.3899528560304023, 0.39072657846058045, 0.4643427598659374, 0.47618338334663973, 0.6876407744156093, 0.4645695649600149, 0.345194292767228, 0.44518421144743936, 0.4712293268518389, 0.3563934750016281, 0.5627495470171786, 0.44580900310467514, 0.35327171995606677, 0.5177112403121573, 0.5885697600997706, 0.38978031583878076, 0.5096660080764719, 0.5628253403196224, 0.37746262382997553, 0.4697365297721192, 0.5611839446793775, 0.4500962377427197, 0.4054491913088748, 0.5272374149922464, 0.37472223016310025, 0.6001910244013559, 0.3852990289863442, 0.38483229919913453, 0.36629959545131313, 0.4309730640707796, 0.5638628473215265, 0.3692221727660917, 0.38769596379831894, 0.4302448140801286, 0.5595722590275435, 0.5226792865064567, 0.430957890925333, 0.46095543544740575, 0.44369367762262313, 0.5212123457935105, 0.48919728070595375, 0.5634613845235176, 0.6214556109651318, 0.40265534603921616, 0.516969087183312, 0.3400968682469782, 0.3999092941753974, 0.4761812820029612, 0.46803013617797024, 0.4792910075969603, 0.41174578712870646, 0.4439563723431223, 0.4505390258387192, 0.3800405401041865, 0.4931328876076087, 0.5327715560533572, 0.44403355700709357, 0.5573322514524671, 0.6135181046079141, 0.5651246522205821, 0.4968870413802605, 0.3867793259286839, 0.44908358560111283, 0.4721045597522191, 0.48994480869017193, 0.4759995643460414, 0.511689039666574, 0.5264771284868953, 0.45705170368357545, 0.3837613742273279, 0.5332031457057667, 0.4144240432460203, 0.3953889720465066, 0.459389986757743, 0.4933803424330894, 0.4758822030791894, 0.5620605971128871, 0.356173957063833, 0.3512818995681005, 0.43719709919980704, 0.43711229076920893, 0.4774942298809912, 0.5610506933162217, 0.8361808125228924, 0.4006353480367194, 0.38154447458093904, 0.40325839430988913, 0.35953575525151654, 0.44509226582150563, 0.5579379126963107, 0.47887568223728183, 0.3867034911163942, 0.44600850637286077, 0.33327663277965713, 0.4231552322956852, 0.4534854217594009, 0.4451774376791823, 0.3683030701475602, 0.673470704756346, 0.516244321626181, 0.44878736052871276, 0.41042874632733684, 0.4026807547606027, 0.403689086278742, 0.6178775867456828, 0.3601812299495357, 0.3983220449084286, 0.6831703562269331, 0.6865571411113244, 0.37304432537690435, 0.37212336220793885, 0.39063391133937786, 0.5533886574654214, 0.43765414376015865, 0.39035046865493894, 0.48235582473893884, 0.40244485142613406, 0.4154822386747082, 0.6117400462950877, 0.413144370100198, 0.3635893096542919, 0.40184058670532197, 0.42251301292064153, 0.4544203237040086, 0.50910326213962, 0.5883696218024165, 0.5738162857970164, 0.471419641592387, 0.3737401221338285, 0.6000876618390656, 0.5205489955207147, 0.4907293775174743, 0.43205496950763517, 0.37588759804730937, 0.3554564038689046, 0.37074567382687806, 0.44234340513097664, 0.37146999903135564, 0.37663278203267103, 0.4025915663396253, 0.37694674809507467, 0.514079553299524, 0.3692498053261083, 0.43408632241040407, 0.4135334028353239, 0.3805832421599077, 0.51532590906016, 0.4079002721792352, 0.549463907381485, 0.44593562954758365, 0.4762154177992963, 0.3544311135686826, 0.47060522844213315, 0.5215959740367181, 0.3458818517247687, 0.452860632660426, 0.43738646310166374, 0.4370941301879808, 0.4647961799601104, 0.33715517404447404, 0.3837707588109645, 0.4008496558522519, 0.4276557802157859, 0.4141614018737395, 0.41549076893457765, 0.5600477491430254, 0.5505979241103118, 0.47059447410198424, 0.5698250719913837, 0.37709183968117216, 0.3351301406116943, 0.4225217509663441, 0.47065390217478525, 0.5240409153304373, 0.5770396674428471, 0.47838807990931864, 0.4891530519337808, 0.3451332877259888, 0.42523906171371256, 0.591312299028761, 0.4240059416165846, 0.4087372834307656, 0.460973657899489, 0.5146460753264166, 0.5123542917462127, 0.5174137441506592, 0.41150233753050064, 0.4402779616504118, 0.5346043886725097, 0.5646068277528932, 0.5148992888380963, 0.5502043007543923, 0.405763198287662, 0.5781113243310125, 0.5489469046976069, 0.5957874105511392, 0.47443625805881284, 0.5500206289435614, 0.6077575200482938, 0.5759934711931418, 0.5398944489463944, 0.4449244349669038, 0.4425229561724192, 0.5625545431865271, 0.47991100158171907, 0.41037651740170933, 0.3849635215174652, 0.5807655509400209, 0.5212956358448206, 0.47417445474585007, 0.4478869057915692, 0.3658341858393363, 0.37279630379783496, 0.43563445550956903, 0.8251095884393649, 0.5970859552485027, 0.5820369631455766, 0.5483054899679515, 0.5633509178584692, 0.4407769279311644, 0.39809550574466207, 0.4158566149252052, 0.558174553019074, 0.4834354188093588, 0.43336113569224166, 0.45693406812006093, 0.6298256266592326, 0.3713663942038877, 0.5533842193095749, 0.4090949478421149, 0.37683247617633897, 0.5013025921177708, 0.4054393295634572, 0.36204874940570714, 0.5768728559616708, 0.46341712765257076, 0.38196663089424077, 0.44217716442583466, 0.5959497881973707, 0.3809797574732646, 0.5970104065945436, 0.4229771857091758, 0.5181764475720408, 0.36014740635127, 0.35046594991902186, 0.43971655726175757, 0.5149807071561976, 0.44536022397028585, 0.4416939690493732, 0.4094788437207851, 0.4578970822098446, 0.42701821382918065, 0.6199349141143509, 0.5054371223679262, 0.5115836825423723, 0.4412676154328068, 0.3815490380661587, 0.40974915240419635, 0.3751690533344743, 0.3940911772681607, 0.4390104849282932, 0.4424564443007962, 0.38470325745115225, 0.6332438755341847, 0.4823551143209113, 0.5342441738477243, 0.43295656661597703, 0.35800016526735245, 0.5847229795458039, 0.5590547228956225, 0.4324377800583446, 0.4490792144185113, 0.4700293445592904, 0.385247079840692, 0.5609423246316887, 0.49552109141469414, 0.4263517992399005, 0.8241352232004591, 0.37728069178681023, 0.4900988126913533, 0.47631828915688745, 0.5888649331012143, 0.445437529919012, 0.5219618279325964, 0.37262716008096597, 0.36581743840877184, 0.3426176531365953, 0.5711329764630878, 0.5625848557636315, 0.49155165189624456, 0.43598369983877133, 0.5464930094314264, 0.40748519615754375, 0.3844221054490417, 0.3708790764830129, 0.6331171982347331, 0.4532339144634296, 0.49427941461135394, 0.5271795999718655, 0.5305996251517544, 0.3799729604794606, 0.4422151796997956, 0.38448246920418916, 0.4452890648056023, 0.3851378739817721, 0.47464066044337627, 0.38337302421878494, 0.5176211514331917, 0.39593127127616173, 0.5244233782633624, 0.5954997217910398, 0.7453001966042632, 0.4062793174172378, 0.3779060573186631, 0.5745355103701848, 0.4723291678397711, 0.4567451870743118, 0.38569494578757146, 0.42611173970731564, 0.426382624214907, 0.5547892058823415, 0.5706006974930652, 0.4214814881593064, 0.4425662329147048, 0.5012900351788212, 0.45261463800185026, 0.6917037652461235, 0.389364186213428, 0.42576795621235614, 0.49141768845744593, 0.552223202770382, 0.45442118444423796, 0.5336677318620928, 0.38006158081696206, 0.5054647269780895, 0.367733997259902, 0.3642000669928952, 0.4448702769279512, 0.41851404412020016, 0.43271335322311255, 0.6139246997780314, 0.4485280293792049, 0.39444266478755197, 0.4575944975210183, 0.4740270123749578, 0.38469034168806976, 0.4124629227947927, 0.5674943669184335, 0.46715439308159723, 0.4341625921795669, 0.40291847085583665, 0.5588931145222978, 0.3944795456378908, 0.46252029438689046, 0.42718871980228423, 0.5293738968471391, 0.4239107104854397, 0.4422061845459053, 0.41429992585631387, 0.7933590907144137, 0.45809060279835717, 0.405974104700764, 0.4509216326945338, 0.4192332629147463, 0.43147878197767053, 0.4689400167822851, 0.40590933123383477, 0.5623915409317004, 0.35545319129176617, 0.4608912316681928, 0.477726924986656, 0.5342231524588625, 0.529578508705644, 0.42274953843298685, 0.5361731006634483, 0.4911749096969789, 0.46913226829360133, 0.45170123809220686, 0.37143812725178066, 0.4287865806773118, 0.36613803248652366, 0.5759339766024291, 0.5295352181537981, 0.37299203909664896, 0.5180920402144049, 0.49595213362231066, 0.43033410887015633, 0.45980334050695915, 0.45952225484044745, 0.4892208542576652, 0.39526982192078153, 0.4590569978752619, 0.47695165091344816, 0.48280997163562206, 0.5734762069955026, 0.5079172774071272, 0.5462229645980299, 0.4339104924528788, 0.41533278259377787, 0.4218323781795221, 0.37088743214513503, 0.7315835106675022, 0.6452704283220045, 0.499185367091617, 0.422785840792537, 0.4774108111076544, 0.5466857068893642, 0.42617595851225926, 0.5950567958137404, 0.4732006880836508, 0.5520923544490924, 0.43217658513627627, 0.5740374057831771, 0.37330988972456075, 0.36815724453785603, 0.498931692258501, 0.39954887482389, 0.5381586519461692, 0.44481910996632684, 0.5462662407659723, 0.42448016130374633, 0.41095384589861395, 0.4023746095696656, 0.4278933501040861, 0.5017339138820099, 0.4842557963353169, 0.34277242067585584, 0.49236685270344127, 0.4281385187064579, 0.5130194899784983, 0.4090757330139316, 0.5000886455511717, 0.5101817203032016, 0.4254758470637797, 0.5047910584929459, 0.3785389930160858, 0.579975696083695, 0.579335834005844, 0.5036619980000326, 0.348253392538792, 0.39514261957675456, 0.4334683538918963, 0.3593576439508472, 0.7221698286625956, 0.44138689693073185, 0.388559755721103, 0.4163643268667928, 0.448041681994643, 0.5044492982897888, 0.4506551436154732, 0.36476250869239274, 0.37972295620623664, 0.3415251255649855, 0.5231981578408589, 0.38156678755032913, 0.4858410807373842, 0.5930937525273332, 0.6966960717844962, 0.40283895258855196, 0.564262196589403, 0.4232346068539674, 0.4048526385060282, 0.4969795912086651, 0.41135083240254816, 0.44418958311263024, 0.5467221675298716, 0.5381221557693675, 0.39083176541181947, 0.42067479350248693, 0.6062133331562353, 0.37461169161475943, 0.4187755236023496, 0.5474850745042035, 0.5554109437125767, 0.40362804281967024, 0.8412875301723316, 0.3655631301197371, 0.5205587469599804, 0.5835064494934337, 0.5808605020018619, 0.491767474442007, 0.4397918162870432, 0.39020049273938484, 0.4112268067555681, 0.3958292683942502, 0.38423911321519666, 0.3716803201077929, 0.6468296958004578, 0.5394642386845507, 0.40728516066129006, 0.5964816160630508, 0.45380941035540373, 0.43890669254893117, 0.5611307126985503, 0.3970159103556462, 0.5742586968526039, 0.45519655932924347, 0.5006819800582387, 0.5476692939120952, 0.4136755873566547, 0.5219990819530977, 0.5310031501781137, 0.3598433361425643, 0.46546060988314303, 0.4748795479604661, 0.3832733193364784, 0.5181685250568862, 0.4857794070478379, 0.38931908163935647, 0.5073291497576068, 0.3856348781591827, 0.49469749931260765, 0.38715594761963074, 0.45197793947864484, 0.519394091505786, 0.4731314146703406, 0.5753622931906431, 0.46473992318892676, 0.4478308131412462, 0.5151595240347697, 0.5652009893124139, 0.500892842994819, 0.403621006292437, 0.5219376309800458, 0.34801147232833196, 0.5910102144305049, 0.44227943620236543, 0.5198016711947695, 0.4610206360217667, 0.4322117103590168, 0.4886795490929788, 0.48202091681011494, 0.3873877645484069, 0.42999467132682173, 0.3812177592127074, 0.6100507125061635, 0.761907638607344, 0.44051850125765063, 0.5741655335844686, 0.48234514384556715, 0.446237691398609, 0.37406504143582037, 0.5850571178730727, 0.4876206221942616, 0.7714097538726327, 0.54899508455163, 0.4206119103224421, 0.3840531308845679, 0.36034701609170666, 0.4325480535764096, 0.6691311246090783, 0.4336962140942636, 0.43316549010217953, 0.609899510713917, 0.5987106135647114, 0.5127908522526232, 0.5651585178240547, 0.40873122338783496, 0.4443709827463729, 0.4541916519713176, 0.5458404867707074, 0.42537778264246384, 0.3820282573549706, 0.6401325527181714, 0.44403894803571226, 0.4702621990161157, 0.5976210051502445, 0.3919538163707798, 0.383562043027015, 0.4228077098868737, 0.5944956614522667, 0.4498466002997967, 0.36600193492118244, 0.45254798346146174, 0.4600894186449153, 0.43235339577013476, 0.3545404778872402, 0.4725277800795496, 0.5388712561686886, 0.6328482144972067, 0.630525472024359, 0.7349149000415137, 0.43240478113346625, 0.5029236697419072, 0.4413629113048449, 0.41410363981448456, 0.5357554843722011, 0.5593726197987033, 0.5244668032302509, 0.5029839297353169, 0.5481877023934144, 0.39166829009905935, 0.4051569212553292, 0.4041204311310113, 0.3957639498999237, 0.3879669079104339, 0.43745238480873583, 0.5185705327880482, 0.39623125677778803, 0.5381046589318297, 0.400109154833181, 0.5908677351370022, 0.4123915643058297, 0.40532040883680187, 0.46174583608252745, 0.5254696515062102, 0.380287019737301, 0.5970183344678588, 0.6474156845995297, 0.44707256120558164, 0.38558320711613037, 0.4654903766559374, 0.4707077941571671, 0.43774833573900784, 0.499595026815853, 0.4660775943270055, 0.38374618097836943, 0.5954477444413093, 0.473688804879416, 0.3791206373949506, 0.44388137664113414, 0.5328195110449319, 0.3664539066094606, 0.5934488348415732, 0.4311706833139287, 0.3587857038028285, 0.6205134463507318, 0.3815059879252026, 0.40172663744770337, 0.3915129263502781, 0.49812062926688166, 0.4467077614486238, 0.46772270269971516, 0.5247870664573673, 0.7463508391294233, 0.48362210142780093, 0.4158380467782871, 0.4120161686316847, 0.42132773026816644, 0.5007192324705468, 0.34479912641214827, 0.613657574818161, 0.382159890634192, 0.3720795513782698, 0.4055763732779652, 0.36188099015937725, 0.5044643071423959, 0.4249953191911088, 0.41666666977844613, 0.3638839589722561, 0.37613492527939724, 0.5936552379592445, 0.5192324443214754, 0.400316195010557, 0.4697114077014116, 0.5078588841072924, 0.39309042443394454, 0.5574070841097303, 0.4407630236887872, 0.4129456568694415, 0.46949589431775574, 0.5218503308702165, 0.43237237748233126, 0.4306590356747181, 0.3765411389361386, 0.37700157210908153, 0.4741804665521786, 0.46868035590875934, 0.41245015130471785, 0.4483032397995859, 0.5540707315451229, 0.5704333384843056, 0.4112086326541865, 0.4473846943125218, 0.39978537643909545, 0.5392994686727778, 0.3967353827587122, 0.410609321030428, 0.44663540808167024, 0.5986826317111562, 0.550932633793509, 0.5463637698517118, 0.4991904451474197, 0.7047063873050257, 0.5561335455037254, 0.4777584103562985, 0.36248758352873567, 0.3986018294431778, 0.42175496416006064, 0.461102279320697, 0.4920295952202614, 0.42702306895490894, 0.4087687888505246, 0.4571230954291294, 0.5497516366875367, 0.40620910633731766, 0.35265754630131285, 0.4157280495833301, 0.4271607270642698, 0.5433482089163055, 0.34450673851368907, 0.5155792660906028, 0.3497431550851056, 0.49689768498879666, 0.49204256102521454, 0.4716190813912317, 0.391723204526162, 0.3471103980905631, 0.5040276116337801, 0.3952321242710399, 0.5442564203829426, 0.4192760707175924, 0.4745152163652778, 0.5273931268287855, 0.5754083298148271, 0.5182291293056246, 0.43776321885710257, 0.3659927398550217, 0.4332208804867964, 0.6552715292165194, 0.3767287073884406, 0.39553114406338696, 0.36127533371841547, 0.3556027843901826, 0.3978677971324682, 0.4720347979312627, 0.5343851441748353, 0.5345761767456838, 0.5274274994572956, 0.5882073176387739, 0.4692202114951677, 0.41964720455600046, 0.4316270519981174, 0.38552780675228787, 0.7316841517493884, 0.4006749393810306, 0.5705293477587771, 0.4283517268371034, 0.5362579066035174, 0.42642541667076594, 0.5653091316491964, 0.3808200524430917, 0.5540667135295205, 0.44737554037657973, 0.41235610006348955, 0.4140946858330158, 0.4486435723508686, 0.4250005197744066, 0.3970217704917309, 0.42577370439031725, 0.4434274279524845, 0.4860651547037086, 0.37454807999203177, 0.3951496660791055, 0.49705372734226544, 0.48260232839501693, 0.4080896697680541, 0.4111889336961167, 0.5871743462264768, 0.4707555134336719, 0.35931874390537316, 0.6216349341888797, 0.4328518058532854, 0.5193615676019909, 0.4099417669011374, 0.39607885961135203, 0.35487678124169436, 0.40087999160277316, 0.4248471249753377, 0.45970763890000493, 0.44418514221891164, 0.5018862395023096, 0.4678586531316947, 0.5772456534897097, 0.474371577181998, 0.46628196209412953, 0.5087648700079519, 0.41744637037490484, 0.4055043462064366, 0.370396105461296, 0.5078365675913106, 0.4241158907611119, 0.4462882178435878, 0.4887776594227142, 0.3764883336228361, 0.3823009322427317, 0.45114587546878154, 0.44080731879589097, 0.49772341694014777, 0.4336696539317484, 0.3495342736159241, 0.5312286915373295, 0.48426246820888313, 0.5177183907303096, 0.377066861931454, 0.4824086120563683, 0.6468564311590608, 0.37062732931454245, 0.5275895531675399, 0.3490729099117057, 0.3944913120741048, 0.4207288250856024, 0.39410641869982366, 0.5175271804728635, 0.37397830297151663, 0.4895739835633264, 0.4426375374971737, 0.38355779891804354, 0.42556396174934685, 0.5558092753018983, 0.5462264692552423, 0.4775861556221292, 0.4337226472238848, 0.3515603138191576, 0.4254177898581328, 0.3916560430904001, 0.5411013699983875, 0.5631294340405115, 0.4373187764956065, 0.3822130186190195, 0.4347767091984648, 0.42275908650740235, 0.4525754611955645, 0.44053799783600145, 0.46227807934703896, 0.4678305993724557, 0.4820750882308363, 0.3733961596524118, 0.4947852616483742, 0.8259746405149875, 0.41133054725884327, 0.3684885576688611, 0.5505246452878366, 0.39148199715932086, 0.3992830774813866, 0.4154797581903343, 0.39128504904500705, 0.3710835611337073, 0.4108592380513561, 0.45601680540705314, 0.4013185033737933, 0.5285183113592647, 0.39579910472026547, 0.3738786035199662, 0.4198522484749348, 0.42118522976752004, 0.48308955669240683, 0.48110443103190814, 0.3753893479780407, 0.4408606839025476, 0.41549135797348924, 0.38295624281318014, 0.523284948187109, 0.38377003854183417, 0.41658799411543734, 0.44348589570590524, 0.3727021779723246, 0.5207932891496926, 0.5879350409133992, 0.4509673677042388, 0.47869133956104903, 0.5741433420486812, 0.4578326121373171, 0.399459102382869, 0.46158238385254685, 0.4982540084823183, 0.5779856598347697, 0.4543861115958362, 0.5274440285601467, 0.42877046018099535, 0.49523945587875806, 0.4415832674597759, 0.47778925473986933, 0.5191916598959749, 0.39967272597778036, 0.49840042095418796, 0.4664510271023542, 0.4093777303837901, 0.39359406000263586, 0.4292475916065766, 0.41307873851775784, 0.46583158600420305, 0.4300978583106999, 0.3798165199098426, 0.3722554488608063, 0.5662980272167416, 0.3975091415460194, 0.4555489486792256, 0.4413716857903376, 0.6228611847493382, 0.4236235866930834, 0.5285483349094406, 0.4166549434391519, 0.5547092801803458, 0.36543125590916126, 0.4840840397471041, 0.387817760321539, 0.45430703072693895, 0.40909151654452697, 0.3884562342030434, 0.46899242259172375, 0.3576286148093061, 0.3374151450497666, 0.4662616939058136, 0.4094902541243668, 0.5178257260791358, 0.47352423813686295, 0.4185104921091346, 0.41115968761540717, 0.58440230395569, 0.4151817174640735, 0.6136905307532448, 0.483278947801937, 0.37037464109852924, 0.3937722388166631, 0.4039885995955122, 0.35873796032283883, 0.6299172778318193, 0.5173698414790676, 0.5070467809791871, 0.5099057959406026, 0.5238745939102726, 0.4221395015275594, 0.5937941186551151, 0.5631813717495732, 0.39457120642831367, 0.37927979241554793, 0.5112709721808073, 0.49120973139456325, 0.43501114291741294, 0.8222120465284173, 0.51513989982599, 0.499093512892837, 0.43225272576089974, 0.5151980932046275, 0.4337344962396722, 0.35438094241486884, 0.39172667864456423, 0.511442205093353, 0.47159211910192955, 0.3964372571523453, 0.586074352939591, 0.4037858816940945, 0.5529492132452439, 0.5683848584281924, 0.5274385350566552, 0.34819383366387174, 0.38960607711119266, 0.371201259503184, 0.4135879839050046, 0.394837697271489, 0.42998529510623473, 0.5898815972676374, 0.5355817381375777, 0.4794930901951739, 0.4344196701959843, 0.49485971071228596, 0.3519935222684444, 0.6031885831330436, 0.4602039041504794, 0.3489943481639908, 0.5411075150398423, 0.4089512475711398, 0.422574623143899, 0.5933002846407817, 0.6796439164078412, 0.5403165414909126, 0.44293067375143824, 0.34025612737034777, 0.4325717644744535, 0.4259418222783674, 0.5388200245321105, 0.4200788527252078, 0.5020123955635907, 0.46551977578600284, 0.5764960509280201, 0.5084017051402292, 0.6096871164958924, 0.6021999246042151, 0.4007456463343216, 0.4873610392259272, 0.47440382684601384, 0.4836009417682595, 0.40549351753366214, 0.594655699387524, 0.43367695424352337, 0.3807598333829535, 0.41184098434631944, 0.35370728382749933, 0.4647831549095323, 0.512034738625382, 0.36587256512079674, 0.5005705663281621, 0.6376425772295946, 0.568907328155498, 0.3861229099968734, 0.5548004545561509, 0.44668503437906953, 0.4192973046118621, 0.544330578537401, 0.5445664710611677, 0.42379212490020884, 0.5629373469289394, 0.4457513997304295, 0.3424359186227822, 0.5200292022298316, 0.4884548132768628, 0.34763273508638404, 0.6011145756338327, 0.386542393284331, 0.5574558753862041, 0.3662858380944671, 0.4786026415678683, 0.5579933537454702, 0.4355574946770453, 0.6106427547675908, 0.5580988489440726, 0.44081377919622555, 0.3690691809189236, 0.3780037245182623, 0.4266814177175342, 0.39193092260019896, 0.5256753181561485, 0.4825831465239273, 0.5476493640940217, 0.4820234593826302, 0.3783466864458037, 0.3664146635438243, 0.494000239808587, 0.3710515754462747, 0.38876865384981724, 0.5433631857855337, 0.5919024266505125, 0.40418845519008473, 0.390560077456115, 0.5454267465581915, 1.0411366375556979, 0.5422064480746261, 0.39256434471332036, 0.407317727386123, 0.38319201726695107, 0.5185435426299008, 0.364112325653363, 0.5067839162995014, 0.44698409239398734, 0.38296479741335354, 0.5438667352844309, 0.38508900556999637, 0.3743713692005689, 0.4618804617345701, 0.4891054181402151, 0.4460781487817969, 0.5742354995470986, 0.4124746117909298, 0.5450128822825067, 0.46120753125363506, 0.42429953020621936, 0.4628726176055763, 0.42468591432536307, 0.5650287568228778, 0.36935383016453605, 0.4338362585160317, 0.4535617277573548, 0.40283600408896103, 0.4966702319473373, 0.47066818076793027, 0.47262659980976274, 0.5055535349253578, 0.4473974634051337, 0.6732523591897771, 0.5207886970142572, 0.37643486409920446, 0.3810592554745986, 0.5167700007645548, 0.5314551632130369, 0.7032920834206046, 0.35039141335840623, 0.5762720298827968, 0.4453985916273903, 0.6009451303149878, 0.4176239343740523, 0.3905081662586864, 0.39262784678130946, 0.49710140486827276, 0.5399730688924381, 0.3670470286620616, 0.35688681933575844, 0.3946212761400168, 0.5305564011079864, 0.3811501029276488, 0.5378217378936965, 0.5723393277564919, 0.5159406093744424, 0.4080861220186172, 0.6338834408672288, 0.5519129742084393, 0.46158241725986116, 0.48077316750919064, 0.515002338437066, 0.5189583680730218, 0.49688589702254554, 0.4767265250049394, 0.418027826599564, 0.400979528238672, 0.4128318885063411, 0.6301494813406459, 0.6520519675117746, 0.5940231522503794, 1.053204573087387, 0.5841025887138229, 0.4176397023725741, 0.4037445273863491, 0.4689162209338543, 0.47249814099313314, 0.38663906446972457, 0.5025019562919812, 0.5739607827809814, 0.4719982727676769, 0.47171284175287614, 0.4809320529243524, 0.5718766505561262, 0.4953239615631202, 0.43770945090520275, 0.5043153568860212, 0.4098360340386048, 0.6069414222110769, 0.43195333351878906, 0.4321498652448518, 0.4969866279570959, 0.4389031313328527, 0.416252911615463, 0.4672197203237104, 0.416671266608696, 0.3973591517851201, 0.467476168183139, 0.5745165628906433, 0.7798431099532904, 0.4626555866761978, 0.4095395220966974, 0.6050117203460268, 0.6511245906037033, 0.4651123803534973, 0.33871708598382166, 0.42074005052523117, 0.355418715948536, 0.39892705068192996, 0.7269856823280799, 0.4058107628017985, 0.35356586641219556, 0.5199393706679584, 0.4852329513027547, 0.44147226862186323, 0.4100848439503899, 0.5385613826200248, 0.40938494988929575, 0.5081964521920012, 0.46365695475143137, 0.623379180441611, 0.43484951599405985, 0.6011560535950975, 0.4740311368195737, 0.5569879449587799, 0.5448027920035166, 0.557080525286264, 0.6067794985141889, 0.48614612519351297, 0.39094626267805277, 0.39248819498667464, 0.5606925307834525, 0.35964688248269383, 0.39984808718320525, 0.6043338252650176, 0.36337006234402647, 0.5593802051478775, 0.3935616677167685, 0.3924776334654486, 0.4361889375799528, 0.4326807844864294, 0.38988191736203087, 0.4277666523133116, 0.37174873189377733, 0.3903996356367045, 0.4762526808618387, 0.40365144676707754, 0.5251917316384052, 0.3928306820884569]\n"
     ]
    }
   ],
   "source": [
    "#Keeps track of di for all object i. \n",
    "errors=list()\n",
    "\n",
    "#as given in the paper, split the training dataset into M1 and M2. Here 20% of training dataset goes to M1. \n",
    "p1=int(train_feature_matrix.shape[0]*0.2)\n",
    "p2=train_feature_matrix.shape[0]-p1\n",
    "\n",
    "M1=train_feature_matrix[0:p1]\n",
    "M2=train_feature_matrix[p1:None]\n",
    "\n",
    "#Finding the KNN distance for all the points in M1\n",
    "for i in range(p1):\n",
    "    errors.append(knndis(M1[i],M2)) \n",
    "print(errors)"
   ]
  },
  {
   "cell_type": "code",
   "execution_count": 90,
   "id": "f79f71fc",
   "metadata": {},
   "outputs": [
    {
     "name": "stdout",
     "output_type": "stream",
     "text": [
      "3708\n"
     ]
    }
   ],
   "source": [
    "print(len(errors))"
   ]
  },
  {
   "cell_type": "code",
   "execution_count": 91,
   "id": "b75ef506",
   "metadata": {},
   "outputs": [
    {
     "name": "stdout",
     "output_type": "stream",
     "text": [
      "Base score 0.5775635543055787\n",
      "Lowest knn distance 0.33327663277965713\n",
      "Highest knn distance 1.3124043730423627\n"
     ]
    }
   ],
   "source": [
    "#Using base thresold as one where 90% of KNN distance is lesser\n",
    "Base_lm = np.sort(errors)[int(len(errors)*0.9)]\n",
    "print(\"Base score\",Base_lm)\n",
    "print(\"Lowest knn distance\",np.sort(errors)[0])\n",
    "print(\"Highest knn distance\",np.sort(errors)[len(errors)-1])\n"
   ]
  },
  {
   "cell_type": "code",
   "execution_count": 92,
   "id": "a50960c9",
   "metadata": {},
   "outputs": [
    {
     "data": {
      "text/plain": [
       "[<matplotlib.lines.Line2D at 0x7f28c877ccd0>]"
      ]
     },
     "execution_count": 92,
     "metadata": {},
     "output_type": "execute_result"
    },
    {
     "data": {
      "image/png": "[encoded data removed]",
      "text/plain": [
       "<Figure size 432x288 with 1 Axes>"
      ]
     },
     "metadata": {
      "needs_background": "light"
     },
     "output_type": "display_data"
    }
   ],
   "source": [
    "plt.plot(np.sort(errors)[0:len(errors)])"
   ]
  },
  {
   "cell_type": "code",
   "execution_count": 54,
   "id": "509cae11",
   "metadata": {},
   "outputs": [
    {
     "name": "stdout",
     "output_type": "stream",
     "text": [
      "Stored 'Base_lm' (float64)\n",
      "Stored 'g_min' (ndarray)\n",
      "Stored 'g_max' (ndarray)\n",
      "Stored 'M2' (ndarray)\n"
     ]
    }
   ],
   "source": [
    "#Storing this variable for other jupyter notebooks to share, or for future use\n",
    "%store Base_lm\n",
    "%store g_min\n",
    "%store g_max\n",
    "%store M2\n",
    "#For more details->https://stackoverflow.com/questions/35935670/share-variables-between-different-jupyter-notebooks"
   ]
  },
  {
   "cell_type": "code",
   "execution_count": 56,
   "id": "0e155a70",
   "metadata": {},
   "outputs": [
    {
     "name": "stdout",
     "output_type": "stream",
     "text": [
      "Stored 'threshold' (float64)\n"
     ]
    }
   ],
   "source": [
    "threshold=np.sort(errors)[len(errors)-1]\n",
    "%store threshold"
   ]
  },
  {
   "cell_type": "code",
   "execution_count": 67,
   "id": "3e600d95",
   "metadata": {},
   "outputs": [
    {
     "name": "stdout",
     "output_type": "stream",
     "text": [
      "1.4087832797188793\n"
     ]
    }
   ],
   "source": [
    "print(threshold)"
   ]
  },
  {
   "cell_type": "code",
   "execution_count": 95,
   "id": "a8d9de98",
   "metadata": {},
   "outputs": [],
   "source": [
    "def frames_process_test(frames_path,AV2):\n",
    "    St=[0]\n",
    "    num=0\n",
    "    frame_prev=None\n",
    "    fine_tune=False\n",
    "    count=0\n",
    "    for img in np.sort(os.listdir(frames_path)):\n",
    "        if img.endswith(\".jpg\"):\n",
    "            image_path=os.path.join(frames_path,img)\n",
    "            if frame_prev is None:\n",
    "                frame_prev=cv2.imread(image_path)\n",
    "                continue\n",
    "            frame=cv2.imread(image_path)\n",
    "            (height, width, _) = frame.shape\n",
    "            prvs=cv2.cvtColor(frame_prev,cv2.COLOR_BGR2GRAY)\n",
    "            curr=cv2.cvtColor(frame,cv2.COLOR_BGR2GRAY)\n",
    "            flow=cv2.calcOpticalFlowFarneback(prvs, curr, None, 0.5, 3, 15, 3, 5, 1.2, 0)\n",
    "            blob = cv2.dnn.blobFromImage(frame,1 / 255,(416, 416),(0, 0, 0),swapRB=True,crop=False)\n",
    "            net.setInput(blob)\n",
    "            output_layer_names = net.getUnconnectedOutLayersNames()\n",
    "            layerOutputs = net.forward(output_layer_names)\n",
    "            boxes = []\n",
    "            confidences = []\n",
    "            appearance = []\n",
    "            for output in layerOutputs:\n",
    "                for detection in output:\n",
    "                    scores = detection[5:]\n",
    "                    class_id = np.argmax(scores)\n",
    "                    confidence = scores[class_id]\n",
    "                    if confidence > 0.6:\n",
    "                        center_x = detection[0] * width\n",
    "                        center_y = detection[1] * height\n",
    "                        w = detection[2] * width\n",
    "                        h = detection[3] * height\n",
    "                        boxes.append([center_x, center_y, w, h])\n",
    "                        confidences.append(float(confidence))\n",
    "                        appearance.append(scores)\n",
    "            indexes = cv2.dnn.NMSBoxes(boxes, confidences, 0.6, 0.4)\n",
    "            i = 0\n",
    "            t=list()\n",
    "            if boxes != []:\n",
    "                flows=get_flow_patches(flow,boxes,indexes)\n",
    "                if flows!=[]:\n",
    "                    for flow_patch in flows:\n",
    "                        mag, _ = cv2.cartToPolar(flow_patch[..., 0], flow_patch[..., 1])\n",
    "                        mean=np.mean(mag)\n",
    "                        variance=np.var(mag)\n",
    "                        kurtosis_=kurtosis(mag,None)\n",
    "                        skew_=skew(mag,None)\n",
    "                        cx,cy,wi,hi=boxes[indexes.flatten()[i]]\n",
    "                        test_matrix=np.array([mean,variance,kurtosis_,skew_]+[0.4*cx,0.4*cy,0.4*wi*hi]+list(0.9*appearance[indexes.flatten()[i]]))\n",
    "                        for j in range(0,87):\n",
    "                            #normalization applied to all features where it is valid\n",
    "                            if g_min[j]!=g_max[j]:\n",
    "                                test_matrix[j]=(test_matrix[j]-g_min[j])/(g_max[j]-g_min[j])\n",
    "                        t.append(knndis(test_matrix,M2))\n",
    "                        #print(t)\n",
    "                        i=i+1\n",
    "            d=(np.max(t)-Base_lm)\n",
    "            St.append(np.max((0,St[num]+d)))\n",
    "            #print(d,\" \",St)\n",
    "            if fine_tune==True and num > 5:\n",
    "                if St[num+1] - St[num] <=0:\n",
    "                    if St[num] - St[num-1] <=0:\n",
    "                        if St[num-1] - St[num-2] <=0:\n",
    "                            St[num+1] = 0\n",
    "                            fine_tune=False\n",
    "            if(St[num+1]>threshold):\n",
    "                fine_tune=True\n",
    "            #print(St[num+1])\n",
    "            '''if fine_tune==True:\n",
    "                if(np.max((0,St[num]+d))>St[num]):\n",
    "                    St.append(np.max((0,St[num]+d)))\n",
    "                else:\n",
    "                    \n",
    "            else:\n",
    "                fine_tune=False\n",
    "                count=0\n",
    "                St.append(np.max(0,d))\n",
    "            \n",
    "            if St[num+1]>threshold:\n",
    "                fine_tune=True\n",
    "            \n",
    "            print(St[num+1])'''\n",
    "            frame_prev = frame\n",
    "            num=num+1\n",
    "    #idx=np.where(np.array(vid)>threshold)\n",
    "    cv2.destroyAllWindows()\n",
    "    plt.plot((St-np.min(St)/(np.max(St)-np.min(St))))\n",
    "    plt.show()\n",
    "    AV2.append((St-np.min(St)/(np.max(St)-np.min(St))))"
   ]
  },
  {
   "cell_type": "code",
   "execution_count": 96,
   "id": "cfa87193",
   "metadata": {},
   "outputs": [
    {
     "name": "stdout",
     "output_type": "stream",
     "text": [
      "Ped2 dataset\n"
     ]
    },
    {
     "data": {
      "image/png": "[encoded data removed]",
      "text/plain": [
       "<Figure size 432x288 with 1 Axes>"
      ]
     },
     "metadata": {
      "needs_background": "light"
     },
     "output_type": "display_data"
    },
    {
     "name": "stdout",
     "output_type": "stream",
     "text": [
      "Video completed in  25.88406823100013  seconds\n"
     ]
    },
    {
     "data": {
      "image/png": "[encoded data removed]",
      "text/plain": [
       "<Figure size 432x288 with 1 Axes>"
      ]
     },
     "metadata": {
      "needs_background": "light"
     },
     "output_type": "display_data"
    },
    {
     "name": "stdout",
     "output_type": "stream",
     "text": [
      "Video completed in  25.698490735998348  seconds\n"
     ]
    },
    {
     "data": {
      "image/png": "[encoded data removed]",
      "text/plain": [
       "<Figure size 432x288 with 1 Axes>"
      ]
     },
     "metadata": {
      "needs_background": "light"
     },
     "output_type": "display_data"
    },
    {
     "name": "stdout",
     "output_type": "stream",
     "text": [
      "Video completed in  23.080281546997867  seconds\n"
     ]
    },
    {
     "data": {
      "image/png": "[encoded data removed]",
      "text/plain": [
       "<Figure size 432x288 with 1 Axes>"
      ]
     },
     "metadata": {
      "needs_background": "light"
     },
     "output_type": "display_data"
    },
    {
     "name": "stdout",
     "output_type": "stream",
     "text": [
      "Video completed in  26.106047313998715  seconds\n"
     ]
    },
    {
     "data": {
      "image/png": "[encoded data removed]",
      "text/plain": [
       "<Figure size 432x288 with 1 Axes>"
      ]
     },
     "metadata": {
      "needs_background": "light"
     },
     "output_type": "display_data"
    },
    {
     "name": "stdout",
     "output_type": "stream",
     "text": [
      "Video completed in  20.57507310299843  seconds\n"
     ]
    },
    {
     "data": {
      "image/png": "[encoded data removed]",
      "text/plain": [
       "<Figure size 432x288 with 1 Axes>"
      ]
     },
     "metadata": {
      "needs_background": "light"
     },
     "output_type": "display_data"
    },
    {
     "name": "stdout",
     "output_type": "stream",
     "text": [
      "Video completed in  27.360539654000604  seconds\n"
     ]
    },
    {
     "data": {
      "image/png": "[encoded data removed]",
      "text/plain": [
       "<Figure size 432x288 with 1 Axes>"
      ]
     },
     "metadata": {
      "needs_background": "light"
     },
     "output_type": "display_data"
    },
    {
     "name": "stdout",
     "output_type": "stream",
     "text": [
      "Video completed in  27.452698520999547  seconds\n"
     ]
    },
    {
     "data": {
      "image/png": "[encoded data removed]",
      "text/plain": [
       "<Figure size 432x288 with 1 Axes>"
      ]
     },
     "metadata": {
      "needs_background": "light"
     },
     "output_type": "display_data"
    },
    {
     "name": "stdout",
     "output_type": "stream",
     "text": [
      "Video completed in  27.539518294001027  seconds\n"
     ]
    },
    {
     "data": {
      "image/png": "[encoded data removed]",
      "text/plain": [
       "<Figure size 432x288 with 1 Axes>"
      ]
     },
     "metadata": {
      "needs_background": "light"
     },
     "output_type": "display_data"
    },
    {
     "name": "stdout",
     "output_type": "stream",
     "text": [
      "Video completed in  18.674621142999968  seconds\n"
     ]
    },
    {
     "data": {
      "image/png": "[encoded data removed]",
      "text/plain": [
       "<Figure size 432x288 with 1 Axes>"
      ]
     },
     "metadata": {
      "needs_background": "light"
     },
     "output_type": "display_data"
    },
    {
     "name": "stdout",
     "output_type": "stream",
     "text": [
      "Video completed in  21.312578758999734  seconds\n"
     ]
    },
    {
     "data": {
      "image/png": "[encoded data removed]",
      "text/plain": [
       "<Figure size 432x288 with 1 Axes>"
      ]
     },
     "metadata": {
      "needs_background": "light"
     },
     "output_type": "display_data"
    },
    {
     "name": "stdout",
     "output_type": "stream",
     "text": [
      "Video completed in  25.508689475998835  seconds\n"
     ]
    },
    {
     "data": {
      "image/png": "[encoded data removed]",
      "text/plain": [
       "<Figure size 432x288 with 1 Axes>"
      ]
     },
     "metadata": {
      "needs_background": "light"
     },
     "output_type": "display_data"
    },
    {
     "name": "stdout",
     "output_type": "stream",
     "text": [
      "Video completed in  25.659321927003475  seconds\n"
     ]
    }
   ],
   "source": [
    "AV2=list()\n",
    "print(\"Ped2 dataset\")\n",
    "#using the PEDESTRIAN training dataset\n",
    "curr_direc=os.path.join(direc,'ped2','testing','frames')\n",
    "for subdirec in np.sort(os.listdir(curr_direc)):\n",
    "    video_frames=os.path.join(curr_direc,subdirec)\n",
    "    start=timer()\n",
    "    frames_process_test(video_frames,AV2)\n",
    "    end=timer()\n",
    "    print(\"Video completed in \",end-start, \" seconds\")\n"
   ]
  },
  {
   "cell_type": "code",
   "execution_count": null,
   "id": "b9f1b3c7",
   "metadata": {},
   "outputs": [],
   "source": []
  }
 ],
 "metadata": {
  "kernelspec": {
   "display_name": "Python 3 (ipykernel)",
   "language": "python",
   "name": "python3"
  },
  "language_info": {
   "codemirror_mode": {
    "name": "ipython",
    "version": 3
   },
   "file_extension": ".py",
   "mimetype": "text/x-python",
   "name": "python",
   "nbconvert_exporter": "python",
   "pygments_lexer": "ipython3",
   "version": "3.9.5"
  }
 },
 "nbformat": 4,
 "nbformat_minor": 5
}
